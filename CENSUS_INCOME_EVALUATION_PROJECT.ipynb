{
 "cells": [
  {
   "cell_type": "code",
   "execution_count": 1,
   "id": "f0101bfc",
   "metadata": {},
   "outputs": [],
   "source": [
    "import pandas as pd\n",
    "import numpy as np\n",
    "import matplotlib.pyplot as plt\n",
    "%matplotlib inline\n",
    "import seaborn as sns\n",
    "import warnings \n",
    "warnings.filterwarnings('ignore')"
   ]
  },
  {
   "cell_type": "code",
   "execution_count": 2,
   "id": "c822d866",
   "metadata": {},
   "outputs": [
    {
     "data": {
      "text/html": [
       "<div>\n",
       "<style scoped>\n",
       "    .dataframe tbody tr th:only-of-type {\n",
       "        vertical-align: middle;\n",
       "    }\n",
       "\n",
       "    .dataframe tbody tr th {\n",
       "        vertical-align: top;\n",
       "    }\n",
       "\n",
       "    .dataframe thead th {\n",
       "        text-align: right;\n",
       "    }\n",
       "</style>\n",
       "<table border=\"1\" class=\"dataframe\">\n",
       "  <thead>\n",
       "    <tr style=\"text-align: right;\">\n",
       "      <th></th>\n",
       "      <th>Age</th>\n",
       "      <th>Workclass</th>\n",
       "      <th>Fnlwgt</th>\n",
       "      <th>Education</th>\n",
       "      <th>Education_num</th>\n",
       "      <th>Marital_status</th>\n",
       "      <th>Occupation</th>\n",
       "      <th>Relationship</th>\n",
       "      <th>Race</th>\n",
       "      <th>Sex</th>\n",
       "      <th>Capital_gain</th>\n",
       "      <th>Capital_loss</th>\n",
       "      <th>Hours_per_week</th>\n",
       "      <th>Native_country</th>\n",
       "      <th>Income</th>\n",
       "    </tr>\n",
       "  </thead>\n",
       "  <tbody>\n",
       "    <tr>\n",
       "      <th>0</th>\n",
       "      <td>50</td>\n",
       "      <td>Self-emp-not-inc</td>\n",
       "      <td>83311</td>\n",
       "      <td>Bachelors</td>\n",
       "      <td>13</td>\n",
       "      <td>Married-civ-spouse</td>\n",
       "      <td>Exec-managerial</td>\n",
       "      <td>Husband</td>\n",
       "      <td>White</td>\n",
       "      <td>Male</td>\n",
       "      <td>0</td>\n",
       "      <td>0</td>\n",
       "      <td>13</td>\n",
       "      <td>United-States</td>\n",
       "      <td>&lt;=50K</td>\n",
       "    </tr>\n",
       "    <tr>\n",
       "      <th>1</th>\n",
       "      <td>38</td>\n",
       "      <td>Private</td>\n",
       "      <td>215646</td>\n",
       "      <td>HS-grad</td>\n",
       "      <td>9</td>\n",
       "      <td>Divorced</td>\n",
       "      <td>Handlers-cleaners</td>\n",
       "      <td>Not-in-family</td>\n",
       "      <td>White</td>\n",
       "      <td>Male</td>\n",
       "      <td>0</td>\n",
       "      <td>0</td>\n",
       "      <td>40</td>\n",
       "      <td>United-States</td>\n",
       "      <td>&lt;=50K</td>\n",
       "    </tr>\n",
       "    <tr>\n",
       "      <th>2</th>\n",
       "      <td>53</td>\n",
       "      <td>Private</td>\n",
       "      <td>234721</td>\n",
       "      <td>11th</td>\n",
       "      <td>7</td>\n",
       "      <td>Married-civ-spouse</td>\n",
       "      <td>Handlers-cleaners</td>\n",
       "      <td>Husband</td>\n",
       "      <td>Black</td>\n",
       "      <td>Male</td>\n",
       "      <td>0</td>\n",
       "      <td>0</td>\n",
       "      <td>40</td>\n",
       "      <td>United-States</td>\n",
       "      <td>&lt;=50K</td>\n",
       "    </tr>\n",
       "    <tr>\n",
       "      <th>3</th>\n",
       "      <td>28</td>\n",
       "      <td>Private</td>\n",
       "      <td>338409</td>\n",
       "      <td>Bachelors</td>\n",
       "      <td>13</td>\n",
       "      <td>Married-civ-spouse</td>\n",
       "      <td>Prof-specialty</td>\n",
       "      <td>Wife</td>\n",
       "      <td>Black</td>\n",
       "      <td>Female</td>\n",
       "      <td>0</td>\n",
       "      <td>0</td>\n",
       "      <td>40</td>\n",
       "      <td>Cuba</td>\n",
       "      <td>&lt;=50K</td>\n",
       "    </tr>\n",
       "    <tr>\n",
       "      <th>4</th>\n",
       "      <td>37</td>\n",
       "      <td>Private</td>\n",
       "      <td>284582</td>\n",
       "      <td>Masters</td>\n",
       "      <td>14</td>\n",
       "      <td>Married-civ-spouse</td>\n",
       "      <td>Exec-managerial</td>\n",
       "      <td>Wife</td>\n",
       "      <td>White</td>\n",
       "      <td>Female</td>\n",
       "      <td>0</td>\n",
       "      <td>0</td>\n",
       "      <td>40</td>\n",
       "      <td>United-States</td>\n",
       "      <td>&lt;=50K</td>\n",
       "    </tr>\n",
       "    <tr>\n",
       "      <th>...</th>\n",
       "      <td>...</td>\n",
       "      <td>...</td>\n",
       "      <td>...</td>\n",
       "      <td>...</td>\n",
       "      <td>...</td>\n",
       "      <td>...</td>\n",
       "      <td>...</td>\n",
       "      <td>...</td>\n",
       "      <td>...</td>\n",
       "      <td>...</td>\n",
       "      <td>...</td>\n",
       "      <td>...</td>\n",
       "      <td>...</td>\n",
       "      <td>...</td>\n",
       "      <td>...</td>\n",
       "    </tr>\n",
       "    <tr>\n",
       "      <th>32555</th>\n",
       "      <td>27</td>\n",
       "      <td>Private</td>\n",
       "      <td>257302</td>\n",
       "      <td>Assoc-acdm</td>\n",
       "      <td>12</td>\n",
       "      <td>Married-civ-spouse</td>\n",
       "      <td>Tech-support</td>\n",
       "      <td>Wife</td>\n",
       "      <td>White</td>\n",
       "      <td>Female</td>\n",
       "      <td>0</td>\n",
       "      <td>0</td>\n",
       "      <td>38</td>\n",
       "      <td>United-States</td>\n",
       "      <td>&lt;=50K</td>\n",
       "    </tr>\n",
       "    <tr>\n",
       "      <th>32556</th>\n",
       "      <td>40</td>\n",
       "      <td>Private</td>\n",
       "      <td>154374</td>\n",
       "      <td>HS-grad</td>\n",
       "      <td>9</td>\n",
       "      <td>Married-civ-spouse</td>\n",
       "      <td>Machine-op-inspct</td>\n",
       "      <td>Husband</td>\n",
       "      <td>White</td>\n",
       "      <td>Male</td>\n",
       "      <td>0</td>\n",
       "      <td>0</td>\n",
       "      <td>40</td>\n",
       "      <td>United-States</td>\n",
       "      <td>&gt;50K</td>\n",
       "    </tr>\n",
       "    <tr>\n",
       "      <th>32557</th>\n",
       "      <td>58</td>\n",
       "      <td>Private</td>\n",
       "      <td>151910</td>\n",
       "      <td>HS-grad</td>\n",
       "      <td>9</td>\n",
       "      <td>Widowed</td>\n",
       "      <td>Adm-clerical</td>\n",
       "      <td>Unmarried</td>\n",
       "      <td>White</td>\n",
       "      <td>Female</td>\n",
       "      <td>0</td>\n",
       "      <td>0</td>\n",
       "      <td>40</td>\n",
       "      <td>United-States</td>\n",
       "      <td>&lt;=50K</td>\n",
       "    </tr>\n",
       "    <tr>\n",
       "      <th>32558</th>\n",
       "      <td>22</td>\n",
       "      <td>Private</td>\n",
       "      <td>201490</td>\n",
       "      <td>HS-grad</td>\n",
       "      <td>9</td>\n",
       "      <td>Never-married</td>\n",
       "      <td>Adm-clerical</td>\n",
       "      <td>Own-child</td>\n",
       "      <td>White</td>\n",
       "      <td>Male</td>\n",
       "      <td>0</td>\n",
       "      <td>0</td>\n",
       "      <td>20</td>\n",
       "      <td>United-States</td>\n",
       "      <td>&lt;=50K</td>\n",
       "    </tr>\n",
       "    <tr>\n",
       "      <th>32559</th>\n",
       "      <td>52</td>\n",
       "      <td>Self-emp-inc</td>\n",
       "      <td>287927</td>\n",
       "      <td>HS-grad</td>\n",
       "      <td>9</td>\n",
       "      <td>Married-civ-spouse</td>\n",
       "      <td>Exec-managerial</td>\n",
       "      <td>Wife</td>\n",
       "      <td>White</td>\n",
       "      <td>Female</td>\n",
       "      <td>15024</td>\n",
       "      <td>0</td>\n",
       "      <td>40</td>\n",
       "      <td>United-States</td>\n",
       "      <td>&gt;50K</td>\n",
       "    </tr>\n",
       "  </tbody>\n",
       "</table>\n",
       "<p>32560 rows × 15 columns</p>\n",
       "</div>"
      ],
      "text/plain": [
       "       Age          Workclass  Fnlwgt    Education  Education_num  \\\n",
       "0       50   Self-emp-not-inc   83311    Bachelors             13   \n",
       "1       38            Private  215646      HS-grad              9   \n",
       "2       53            Private  234721         11th              7   \n",
       "3       28            Private  338409    Bachelors             13   \n",
       "4       37            Private  284582      Masters             14   \n",
       "...    ...                ...     ...          ...            ...   \n",
       "32555   27            Private  257302   Assoc-acdm             12   \n",
       "32556   40            Private  154374      HS-grad              9   \n",
       "32557   58            Private  151910      HS-grad              9   \n",
       "32558   22            Private  201490      HS-grad              9   \n",
       "32559   52       Self-emp-inc  287927      HS-grad              9   \n",
       "\n",
       "            Marital_status          Occupation    Relationship    Race  \\\n",
       "0       Married-civ-spouse     Exec-managerial         Husband   White   \n",
       "1                 Divorced   Handlers-cleaners   Not-in-family   White   \n",
       "2       Married-civ-spouse   Handlers-cleaners         Husband   Black   \n",
       "3       Married-civ-spouse      Prof-specialty            Wife   Black   \n",
       "4       Married-civ-spouse     Exec-managerial            Wife   White   \n",
       "...                    ...                 ...             ...     ...   \n",
       "32555   Married-civ-spouse        Tech-support            Wife   White   \n",
       "32556   Married-civ-spouse   Machine-op-inspct         Husband   White   \n",
       "32557              Widowed        Adm-clerical       Unmarried   White   \n",
       "32558        Never-married        Adm-clerical       Own-child   White   \n",
       "32559   Married-civ-spouse     Exec-managerial            Wife   White   \n",
       "\n",
       "           Sex  Capital_gain  Capital_loss  Hours_per_week  Native_country  \\\n",
       "0         Male             0             0              13   United-States   \n",
       "1         Male             0             0              40   United-States   \n",
       "2         Male             0             0              40   United-States   \n",
       "3       Female             0             0              40            Cuba   \n",
       "4       Female             0             0              40   United-States   \n",
       "...        ...           ...           ...             ...             ...   \n",
       "32555   Female             0             0              38   United-States   \n",
       "32556     Male             0             0              40   United-States   \n",
       "32557   Female             0             0              40   United-States   \n",
       "32558     Male             0             0              20   United-States   \n",
       "32559   Female         15024             0              40   United-States   \n",
       "\n",
       "       Income  \n",
       "0       <=50K  \n",
       "1       <=50K  \n",
       "2       <=50K  \n",
       "3       <=50K  \n",
       "4       <=50K  \n",
       "...       ...  \n",
       "32555   <=50K  \n",
       "32556    >50K  \n",
       "32557   <=50K  \n",
       "32558   <=50K  \n",
       "32559    >50K  \n",
       "\n",
       "[32560 rows x 15 columns]"
      ]
     },
     "execution_count": 2,
     "metadata": {},
     "output_type": "execute_result"
    }
   ],
   "source": [
    "df= pd.read_csv(r'https://raw.githubusercontent.com/dsrscientist/dataset1/master/census_income.csv')\n",
    "df"
   ]
  },
  {
   "cell_type": "code",
   "execution_count": 3,
   "id": "4c7e88ec",
   "metadata": {},
   "outputs": [
    {
     "data": {
      "text/plain": [
       "Age               0\n",
       "Workclass         0\n",
       "Fnlwgt            0\n",
       "Education         0\n",
       "Education_num     0\n",
       "Marital_status    0\n",
       "Occupation        0\n",
       "Relationship      0\n",
       "Race              0\n",
       "Sex               0\n",
       "Capital_gain      0\n",
       "Capital_loss      0\n",
       "Hours_per_week    0\n",
       "Native_country    0\n",
       "Income            0\n",
       "dtype: int64"
      ]
     },
     "execution_count": 3,
     "metadata": {},
     "output_type": "execute_result"
    }
   ],
   "source": [
    "df.isna().sum()"
   ]
  },
  {
   "cell_type": "code",
   "execution_count": 4,
   "id": "4f2924b0",
   "metadata": {},
   "outputs": [],
   "source": [
    "# no imputation required.."
   ]
  },
  {
   "cell_type": "code",
   "execution_count": 5,
   "id": "ecb803c7",
   "metadata": {},
   "outputs": [
    {
     "data": {
      "text/html": [
       "<div>\n",
       "<style scoped>\n",
       "    .dataframe tbody tr th:only-of-type {\n",
       "        vertical-align: middle;\n",
       "    }\n",
       "\n",
       "    .dataframe tbody tr th {\n",
       "        vertical-align: top;\n",
       "    }\n",
       "\n",
       "    .dataframe thead th {\n",
       "        text-align: right;\n",
       "    }\n",
       "</style>\n",
       "<table border=\"1\" class=\"dataframe\">\n",
       "  <thead>\n",
       "    <tr style=\"text-align: right;\">\n",
       "      <th></th>\n",
       "      <th>age</th>\n",
       "      <th>workclass</th>\n",
       "      <th>fnlwgt</th>\n",
       "      <th>education</th>\n",
       "      <th>education_num</th>\n",
       "      <th>marital_status</th>\n",
       "      <th>occupation</th>\n",
       "      <th>relationship</th>\n",
       "      <th>race</th>\n",
       "      <th>sex</th>\n",
       "      <th>capital_gain</th>\n",
       "      <th>capital_loss</th>\n",
       "      <th>hours_per_week</th>\n",
       "      <th>native_country</th>\n",
       "      <th>income</th>\n",
       "    </tr>\n",
       "  </thead>\n",
       "  <tbody>\n",
       "    <tr>\n",
       "      <th>0</th>\n",
       "      <td>50</td>\n",
       "      <td>Self-emp-not-inc</td>\n",
       "      <td>83311</td>\n",
       "      <td>Bachelors</td>\n",
       "      <td>13</td>\n",
       "      <td>Married-civ-spouse</td>\n",
       "      <td>Exec-managerial</td>\n",
       "      <td>Husband</td>\n",
       "      <td>White</td>\n",
       "      <td>Male</td>\n",
       "      <td>0</td>\n",
       "      <td>0</td>\n",
       "      <td>13</td>\n",
       "      <td>United-States</td>\n",
       "      <td>&lt;=50K</td>\n",
       "    </tr>\n",
       "    <tr>\n",
       "      <th>1</th>\n",
       "      <td>38</td>\n",
       "      <td>Private</td>\n",
       "      <td>215646</td>\n",
       "      <td>HS-grad</td>\n",
       "      <td>9</td>\n",
       "      <td>Divorced</td>\n",
       "      <td>Handlers-cleaners</td>\n",
       "      <td>Not-in-family</td>\n",
       "      <td>White</td>\n",
       "      <td>Male</td>\n",
       "      <td>0</td>\n",
       "      <td>0</td>\n",
       "      <td>40</td>\n",
       "      <td>United-States</td>\n",
       "      <td>&lt;=50K</td>\n",
       "    </tr>\n",
       "    <tr>\n",
       "      <th>2</th>\n",
       "      <td>53</td>\n",
       "      <td>Private</td>\n",
       "      <td>234721</td>\n",
       "      <td>11th</td>\n",
       "      <td>7</td>\n",
       "      <td>Married-civ-spouse</td>\n",
       "      <td>Handlers-cleaners</td>\n",
       "      <td>Husband</td>\n",
       "      <td>Black</td>\n",
       "      <td>Male</td>\n",
       "      <td>0</td>\n",
       "      <td>0</td>\n",
       "      <td>40</td>\n",
       "      <td>United-States</td>\n",
       "      <td>&lt;=50K</td>\n",
       "    </tr>\n",
       "    <tr>\n",
       "      <th>3</th>\n",
       "      <td>28</td>\n",
       "      <td>Private</td>\n",
       "      <td>338409</td>\n",
       "      <td>Bachelors</td>\n",
       "      <td>13</td>\n",
       "      <td>Married-civ-spouse</td>\n",
       "      <td>Prof-specialty</td>\n",
       "      <td>Wife</td>\n",
       "      <td>Black</td>\n",
       "      <td>Female</td>\n",
       "      <td>0</td>\n",
       "      <td>0</td>\n",
       "      <td>40</td>\n",
       "      <td>Cuba</td>\n",
       "      <td>&lt;=50K</td>\n",
       "    </tr>\n",
       "    <tr>\n",
       "      <th>4</th>\n",
       "      <td>37</td>\n",
       "      <td>Private</td>\n",
       "      <td>284582</td>\n",
       "      <td>Masters</td>\n",
       "      <td>14</td>\n",
       "      <td>Married-civ-spouse</td>\n",
       "      <td>Exec-managerial</td>\n",
       "      <td>Wife</td>\n",
       "      <td>White</td>\n",
       "      <td>Female</td>\n",
       "      <td>0</td>\n",
       "      <td>0</td>\n",
       "      <td>40</td>\n",
       "      <td>United-States</td>\n",
       "      <td>&lt;=50K</td>\n",
       "    </tr>\n",
       "    <tr>\n",
       "      <th>...</th>\n",
       "      <td>...</td>\n",
       "      <td>...</td>\n",
       "      <td>...</td>\n",
       "      <td>...</td>\n",
       "      <td>...</td>\n",
       "      <td>...</td>\n",
       "      <td>...</td>\n",
       "      <td>...</td>\n",
       "      <td>...</td>\n",
       "      <td>...</td>\n",
       "      <td>...</td>\n",
       "      <td>...</td>\n",
       "      <td>...</td>\n",
       "      <td>...</td>\n",
       "      <td>...</td>\n",
       "    </tr>\n",
       "    <tr>\n",
       "      <th>32555</th>\n",
       "      <td>27</td>\n",
       "      <td>Private</td>\n",
       "      <td>257302</td>\n",
       "      <td>Assoc-acdm</td>\n",
       "      <td>12</td>\n",
       "      <td>Married-civ-spouse</td>\n",
       "      <td>Tech-support</td>\n",
       "      <td>Wife</td>\n",
       "      <td>White</td>\n",
       "      <td>Female</td>\n",
       "      <td>0</td>\n",
       "      <td>0</td>\n",
       "      <td>38</td>\n",
       "      <td>United-States</td>\n",
       "      <td>&lt;=50K</td>\n",
       "    </tr>\n",
       "    <tr>\n",
       "      <th>32556</th>\n",
       "      <td>40</td>\n",
       "      <td>Private</td>\n",
       "      <td>154374</td>\n",
       "      <td>HS-grad</td>\n",
       "      <td>9</td>\n",
       "      <td>Married-civ-spouse</td>\n",
       "      <td>Machine-op-inspct</td>\n",
       "      <td>Husband</td>\n",
       "      <td>White</td>\n",
       "      <td>Male</td>\n",
       "      <td>0</td>\n",
       "      <td>0</td>\n",
       "      <td>40</td>\n",
       "      <td>United-States</td>\n",
       "      <td>&gt;50K</td>\n",
       "    </tr>\n",
       "    <tr>\n",
       "      <th>32557</th>\n",
       "      <td>58</td>\n",
       "      <td>Private</td>\n",
       "      <td>151910</td>\n",
       "      <td>HS-grad</td>\n",
       "      <td>9</td>\n",
       "      <td>Widowed</td>\n",
       "      <td>Adm-clerical</td>\n",
       "      <td>Unmarried</td>\n",
       "      <td>White</td>\n",
       "      <td>Female</td>\n",
       "      <td>0</td>\n",
       "      <td>0</td>\n",
       "      <td>40</td>\n",
       "      <td>United-States</td>\n",
       "      <td>&lt;=50K</td>\n",
       "    </tr>\n",
       "    <tr>\n",
       "      <th>32558</th>\n",
       "      <td>22</td>\n",
       "      <td>Private</td>\n",
       "      <td>201490</td>\n",
       "      <td>HS-grad</td>\n",
       "      <td>9</td>\n",
       "      <td>Never-married</td>\n",
       "      <td>Adm-clerical</td>\n",
       "      <td>Own-child</td>\n",
       "      <td>White</td>\n",
       "      <td>Male</td>\n",
       "      <td>0</td>\n",
       "      <td>0</td>\n",
       "      <td>20</td>\n",
       "      <td>United-States</td>\n",
       "      <td>&lt;=50K</td>\n",
       "    </tr>\n",
       "    <tr>\n",
       "      <th>32559</th>\n",
       "      <td>52</td>\n",
       "      <td>Self-emp-inc</td>\n",
       "      <td>287927</td>\n",
       "      <td>HS-grad</td>\n",
       "      <td>9</td>\n",
       "      <td>Married-civ-spouse</td>\n",
       "      <td>Exec-managerial</td>\n",
       "      <td>Wife</td>\n",
       "      <td>White</td>\n",
       "      <td>Female</td>\n",
       "      <td>15024</td>\n",
       "      <td>0</td>\n",
       "      <td>40</td>\n",
       "      <td>United-States</td>\n",
       "      <td>&gt;50K</td>\n",
       "    </tr>\n",
       "  </tbody>\n",
       "</table>\n",
       "<p>32560 rows × 15 columns</p>\n",
       "</div>"
      ],
      "text/plain": [
       "       age          workclass  fnlwgt    education  education_num  \\\n",
       "0       50   Self-emp-not-inc   83311    Bachelors             13   \n",
       "1       38            Private  215646      HS-grad              9   \n",
       "2       53            Private  234721         11th              7   \n",
       "3       28            Private  338409    Bachelors             13   \n",
       "4       37            Private  284582      Masters             14   \n",
       "...    ...                ...     ...          ...            ...   \n",
       "32555   27            Private  257302   Assoc-acdm             12   \n",
       "32556   40            Private  154374      HS-grad              9   \n",
       "32557   58            Private  151910      HS-grad              9   \n",
       "32558   22            Private  201490      HS-grad              9   \n",
       "32559   52       Self-emp-inc  287927      HS-grad              9   \n",
       "\n",
       "            marital_status          occupation    relationship    race  \\\n",
       "0       Married-civ-spouse     Exec-managerial         Husband   White   \n",
       "1                 Divorced   Handlers-cleaners   Not-in-family   White   \n",
       "2       Married-civ-spouse   Handlers-cleaners         Husband   Black   \n",
       "3       Married-civ-spouse      Prof-specialty            Wife   Black   \n",
       "4       Married-civ-spouse     Exec-managerial            Wife   White   \n",
       "...                    ...                 ...             ...     ...   \n",
       "32555   Married-civ-spouse        Tech-support            Wife   White   \n",
       "32556   Married-civ-spouse   Machine-op-inspct         Husband   White   \n",
       "32557              Widowed        Adm-clerical       Unmarried   White   \n",
       "32558        Never-married        Adm-clerical       Own-child   White   \n",
       "32559   Married-civ-spouse     Exec-managerial            Wife   White   \n",
       "\n",
       "           sex  capital_gain  capital_loss  hours_per_week  native_country  \\\n",
       "0         Male             0             0              13   United-States   \n",
       "1         Male             0             0              40   United-States   \n",
       "2         Male             0             0              40   United-States   \n",
       "3       Female             0             0              40            Cuba   \n",
       "4       Female             0             0              40   United-States   \n",
       "...        ...           ...           ...             ...             ...   \n",
       "32555   Female             0             0              38   United-States   \n",
       "32556     Male             0             0              40   United-States   \n",
       "32557   Female             0             0              40   United-States   \n",
       "32558     Male             0             0              20   United-States   \n",
       "32559   Female         15024             0              40   United-States   \n",
       "\n",
       "       income  \n",
       "0       <=50K  \n",
       "1       <=50K  \n",
       "2       <=50K  \n",
       "3       <=50K  \n",
       "4       <=50K  \n",
       "...       ...  \n",
       "32555   <=50K  \n",
       "32556    >50K  \n",
       "32557   <=50K  \n",
       "32558   <=50K  \n",
       "32559    >50K  \n",
       "\n",
       "[32560 rows x 15 columns]"
      ]
     },
     "execution_count": 5,
     "metadata": {},
     "output_type": "execute_result"
    }
   ],
   "source": [
    "df=df.rename(columns=str.lower)\n",
    "df"
   ]
  },
  {
   "cell_type": "code",
   "execution_count": 6,
   "id": "5cb6ad60",
   "metadata": {},
   "outputs": [
    {
     "data": {
      "text/plain": [
       "age                int64\n",
       "workclass         object\n",
       "fnlwgt             int64\n",
       "education         object\n",
       "education_num      int64\n",
       "marital_status    object\n",
       "occupation        object\n",
       "relationship      object\n",
       "race              object\n",
       "sex               object\n",
       "capital_gain       int64\n",
       "capital_loss       int64\n",
       "hours_per_week     int64\n",
       "native_country    object\n",
       "income            object\n",
       "dtype: object"
      ]
     },
     "execution_count": 6,
     "metadata": {},
     "output_type": "execute_result"
    }
   ],
   "source": [
    "df.dtypes"
   ]
  },
  {
   "cell_type": "code",
   "execution_count": 7,
   "id": "1fe7d3df",
   "metadata": {},
   "outputs": [],
   "source": [
    "cont_cols=['age','fnlwgt','hours_per_week']\n",
    "cat_cols=[]\n",
    "for i in df:\n",
    "    if df[i].dtype=='object':\n",
    "        cat_cols.append(i)\n",
    "cols_to_be_checked=['education_num','capital_gain','capital_loss',]"
   ]
  },
  {
   "cell_type": "code",
   "execution_count": 8,
   "id": "a4a6c6ee",
   "metadata": {},
   "outputs": [
    {
     "name": "stdout",
     "output_type": "stream",
     "text": [
      "for feature education_num, \n",
      " 9     10501\n",
      "10     7291\n",
      "13     5354\n",
      "14     1723\n",
      "11     1382\n",
      "7      1175\n",
      "12     1067\n",
      "6       933\n",
      "4       646\n",
      "15      576\n",
      "5       514\n",
      "8       433\n",
      "16      413\n",
      "3       333\n",
      "2       168\n",
      "1        51\n",
      "Name: education_num, dtype: int64\n"
     ]
    },
    {
     "data": {
      "image/png": "[encoded data removed]",
      "text/plain": [
       "<Figure size 576x576 with 1 Axes>"
      ]
     },
     "metadata": {},
     "output_type": "display_data"
    },
    {
     "data": {
      "image/png": "[encoded data removed]",
      "text/plain": [
       "<Figure size 432x288 with 1 Axes>"
      ]
     },
     "metadata": {
      "needs_background": "light"
     },
     "output_type": "display_data"
    },
    {
     "name": "stdout",
     "output_type": "stream",
     "text": [
      "for feature capital_gain, \n",
      " 0        29849\n",
      "15024      347\n",
      "7688       284\n",
      "7298       246\n",
      "99999      159\n",
      "         ...  \n",
      "1111         1\n",
      "2538         1\n",
      "22040        1\n",
      "4931         1\n",
      "5060         1\n",
      "Name: capital_gain, Length: 119, dtype: int64\n"
     ]
    },
    {
     "data": {
      "image/png": "[encoded data removed]",
      "text/plain": [
       "<Figure size 432x288 with 1 Axes>"
      ]
     },
     "metadata": {
      "needs_background": "light"
     },
     "output_type": "display_data"
    },
    {
     "data": {
      "image/png": "[encoded data removed]",
      "text/plain": [
       "<Figure size 432x288 with 1 Axes>"
      ]
     },
     "metadata": {
      "needs_background": "light"
     },
     "output_type": "display_data"
    },
    {
     "name": "stdout",
     "output_type": "stream",
     "text": [
      "for feature capital_loss, \n",
      " 0       31041\n",
      "1902      202\n",
      "1977      168\n",
      "1887      159\n",
      "1848       51\n",
      "        ...  \n",
      "2080        1\n",
      "1539        1\n",
      "1844        1\n",
      "2489        1\n",
      "1411        1\n",
      "Name: capital_loss, Length: 92, dtype: int64\n"
     ]
    },
    {
     "data": {
      "image/png": "[encoded data removed]",
      "text/plain": [
       "<Figure size 432x288 with 1 Axes>"
      ]
     },
     "metadata": {
      "needs_background": "light"
     },
     "output_type": "display_data"
    },
    {
     "data": {
      "image/png": "[encoded data removed]",
      "text/plain": [
       "<Figure size 432x288 with 1 Axes>"
      ]
     },
     "metadata": {
      "needs_background": "light"
     },
     "output_type": "display_data"
    }
   ],
   "source": [
    "plt.figure(figsize=(8,8),facecolor='yellow')\n",
    "for i in cols_to_be_checked:\n",
    "    print(f\"for feature {i}, \\n {df[i].value_counts()}\")\n",
    "    sns.countplot(df[i])\n",
    "    plt.xlabel(i)\n",
    "    plt.show()\n",
    "    sns.distplot(df[i])\n",
    "    plt.xlabel(i)\n",
    "    plt.show()"
   ]
  },
  {
   "cell_type": "code",
   "execution_count": 9,
   "id": "149ccf92",
   "metadata": {},
   "outputs": [
    {
     "name": "stdout",
     "output_type": "stream",
     "text": [
      "['age', 'fnlwgt', 'hours_per_week', 'capital_loss', 'capital_gain']\n",
      "['workclass', 'education', 'marital_status', 'occupation', 'relationship', 'race', 'sex', 'native_country', 'income', 'education_num']\n"
     ]
    }
   ],
   "source": [
    "cont_cols.append('capital_loss')\n",
    "cont_cols.append('capital_gain')\n",
    "cat_cols.append('education_num')\n",
    "print(cont_cols)\n",
    "print(cat_cols)"
   ]
  },
  {
   "cell_type": "code",
   "execution_count": 10,
   "id": "c5ee4711",
   "metadata": {},
   "outputs": [
    {
     "name": "stdout",
     "output_type": "stream",
     "text": [
      "for feature workclass,\n",
      " Private             22696\n",
      " Self-emp-not-inc     2541\n",
      " Local-gov            2093\n",
      " ?                    1836\n",
      " State-gov            1297\n",
      " Self-emp-inc         1116\n",
      " Federal-gov           960\n",
      " Without-pay            14\n",
      " Never-worked            7\n",
      "Name: workclass, dtype: int64\n"
     ]
    },
    {
     "data": {
      "image/png": "[encoded data removed]",
      "text/plain": [
       "<Figure size 576x576 with 1 Axes>"
      ]
     },
     "metadata": {},
     "output_type": "display_data"
    },
    {
     "name": "stdout",
     "output_type": "stream",
     "text": [
      "for feature education,\n",
      " HS-grad         10501\n",
      " Some-college     7291\n",
      " Bachelors        5354\n",
      " Masters          1723\n",
      " Assoc-voc        1382\n",
      " 11th             1175\n",
      " Assoc-acdm       1067\n",
      " 10th              933\n",
      " 7th-8th           646\n",
      " Prof-school       576\n",
      " 9th               514\n",
      " 12th              433\n",
      " Doctorate         413\n",
      " 5th-6th           333\n",
      " 1st-4th           168\n",
      " Preschool          51\n",
      "Name: education, dtype: int64\n"
     ]
    },
    {
     "data": {
      "image/png": "[encoded data removed]",
      "text/plain": [
       "<Figure size 432x288 with 1 Axes>"
      ]
     },
     "metadata": {
      "needs_background": "light"
     },
     "output_type": "display_data"
    },
    {
     "name": "stdout",
     "output_type": "stream",
     "text": [
      "for feature marital_status,\n",
      " Married-civ-spouse       14976\n",
      " Never-married            10682\n",
      " Divorced                  4443\n",
      " Separated                 1025\n",
      " Widowed                    993\n",
      " Married-spouse-absent      418\n",
      " Married-AF-spouse           23\n",
      "Name: marital_status, dtype: int64\n"
     ]
    },
    {
     "data": {
      "image/png": "[encoded data removed]",
      "text/plain": [
       "<Figure size 432x288 with 1 Axes>"
      ]
     },
     "metadata": {
      "needs_background": "light"
     },
     "output_type": "display_data"
    },
    {
     "name": "stdout",
     "output_type": "stream",
     "text": [
      "for feature occupation,\n",
      " Prof-specialty       4140\n",
      " Craft-repair         4099\n",
      " Exec-managerial      4066\n",
      " Adm-clerical         3769\n",
      " Sales                3650\n",
      " Other-service        3295\n",
      " Machine-op-inspct    2002\n",
      " ?                    1843\n",
      " Transport-moving     1597\n",
      " Handlers-cleaners    1370\n",
      " Farming-fishing       994\n",
      " Tech-support          928\n",
      " Protective-serv       649\n",
      " Priv-house-serv       149\n",
      " Armed-Forces            9\n",
      "Name: occupation, dtype: int64\n"
     ]
    },
    {
     "data": {
      "image/png": "[encoded data removed]",
      "text/plain": [
       "<Figure size 432x288 with 1 Axes>"
      ]
     },
     "metadata": {
      "needs_background": "light"
     },
     "output_type": "display_data"
    },
    {
     "name": "stdout",
     "output_type": "stream",
     "text": [
      "for feature relationship,\n",
      " Husband           13193\n",
      " Not-in-family      8304\n",
      " Own-child          5068\n",
      " Unmarried          3446\n",
      " Wife               1568\n",
      " Other-relative      981\n",
      "Name: relationship, dtype: int64\n"
     ]
    },
    {
     "data": {
      "image/png": "[encoded data removed]",
      "text/plain": [
       "<Figure size 432x288 with 1 Axes>"
      ]
     },
     "metadata": {
      "needs_background": "light"
     },
     "output_type": "display_data"
    },
    {
     "name": "stdout",
     "output_type": "stream",
     "text": [
      "for feature race,\n",
      " White                 27815\n",
      " Black                  3124\n",
      " Asian-Pac-Islander     1039\n",
      " Amer-Indian-Eskimo      311\n",
      " Other                   271\n",
      "Name: race, dtype: int64\n"
     ]
    },
    {
     "data": {
      "image/png": "[encoded data removed]",
      "text/plain": [
       "<Figure size 432x288 with 1 Axes>"
      ]
     },
     "metadata": {
      "needs_background": "light"
     },
     "output_type": "display_data"
    },
    {
     "name": "stdout",
     "output_type": "stream",
     "text": [
      "for feature sex,\n",
      " Male      21789\n",
      " Female    10771\n",
      "Name: sex, dtype: int64\n"
     ]
    },
    {
     "data": {
      "image/png": "[encoded data removed]",
      "text/plain": [
       "<Figure size 432x288 with 1 Axes>"
      ]
     },
     "metadata": {
      "needs_background": "light"
     },
     "output_type": "display_data"
    },
    {
     "name": "stdout",
     "output_type": "stream",
     "text": [
      "for feature native_country,\n",
      " United-States                 29169\n",
      " Mexico                          643\n",
      " ?                               583\n",
      " Philippines                     198\n",
      " Germany                         137\n",
      " Canada                          121\n",
      " Puerto-Rico                     114\n",
      " El-Salvador                     106\n",
      " India                           100\n",
      " Cuba                             95\n",
      " England                          90\n",
      " Jamaica                          81\n",
      " South                            80\n",
      " China                            75\n",
      " Italy                            73\n",
      " Dominican-Republic               70\n",
      " Vietnam                          67\n",
      " Guatemala                        64\n",
      " Japan                            62\n",
      " Poland                           60\n",
      " Columbia                         59\n",
      " Taiwan                           51\n",
      " Haiti                            44\n",
      " Iran                             43\n",
      " Portugal                         37\n",
      " Nicaragua                        34\n",
      " Peru                             31\n",
      " France                           29\n",
      " Greece                           29\n",
      " Ecuador                          28\n",
      " Ireland                          24\n",
      " Hong                             20\n",
      " Cambodia                         19\n",
      " Trinadad&Tobago                  19\n",
      " Laos                             18\n",
      " Thailand                         18\n",
      " Yugoslavia                       16\n",
      " Outlying-US(Guam-USVI-etc)       14\n",
      " Honduras                         13\n",
      " Hungary                          13\n",
      " Scotland                         12\n",
      " Holand-Netherlands                1\n",
      "Name: native_country, dtype: int64\n"
     ]
    },
    {
     "data": {
      "image/png": "[encoded data removed]",
      "text/plain": [
       "<Figure size 432x288 with 1 Axes>"
      ]
     },
     "metadata": {
      "needs_background": "light"
     },
     "output_type": "display_data"
    },
    {
     "name": "stdout",
     "output_type": "stream",
     "text": [
      "for feature income,\n",
      " <=50K    24719\n",
      " >50K      7841\n",
      "Name: income, dtype: int64\n"
     ]
    },
    {
     "data": {
      "image/png": "[encoded data removed]",
      "text/plain": [
       "<Figure size 432x288 with 1 Axes>"
      ]
     },
     "metadata": {
      "needs_background": "light"
     },
     "output_type": "display_data"
    },
    {
     "name": "stdout",
     "output_type": "stream",
     "text": [
      "for feature education_num,\n",
      "9     10501\n",
      "10     7291\n",
      "13     5354\n",
      "14     1723\n",
      "11     1382\n",
      "7      1175\n",
      "12     1067\n",
      "6       933\n",
      "4       646\n",
      "15      576\n",
      "5       514\n",
      "8       433\n",
      "16      413\n",
      "3       333\n",
      "2       168\n",
      "1        51\n",
      "Name: education_num, dtype: int64\n"
     ]
    },
    {
     "data": {
      "image/png": "[encoded data removed]",
      "text/plain": [
       "<Figure size 432x288 with 1 Axes>"
      ]
     },
     "metadata": {
      "needs_background": "light"
     },
     "output_type": "display_data"
    }
   ],
   "source": [
    "plt.figure(figsize=(8,8),facecolor='yellow')\n",
    "for i in cat_cols:\n",
    "    print(f\"for feature {i},\\n{df[i].value_counts()}\")\n",
    "    sns.countplot(df[i])\n",
    "    plt.xlabel(i)\n",
    "    plt.show()    "
   ]
  },
  {
   "cell_type": "code",
   "execution_count": 11,
   "id": "24cb0efb",
   "metadata": {},
   "outputs": [],
   "source": [
    "# for target income, it's apparently an imbalancing condition.. so, smote will be used in this case.."
   ]
  },
  {
   "cell_type": "code",
   "execution_count": 12,
   "id": "57b0ca2b",
   "metadata": {},
   "outputs": [],
   "source": [
    "from sklearn.preprocessing import LabelEncoder\n",
    "le=LabelEncoder()"
   ]
  },
  {
   "cell_type": "code",
   "execution_count": 13,
   "id": "faa4f489",
   "metadata": {},
   "outputs": [],
   "source": [
    "for i in cat_cols:\n",
    "    df[i]=le.fit_transform(df[[i]])"
   ]
  },
  {
   "cell_type": "code",
   "execution_count": 14,
   "id": "2f70355b",
   "metadata": {},
   "outputs": [
    {
     "data": {
      "text/plain": [
       "array([7, 5, 5, ..., 5, 5, 6], dtype=int64)"
      ]
     },
     "execution_count": 14,
     "metadata": {},
     "output_type": "execute_result"
    }
   ],
   "source": [
    "le.inverse_transform(df['workclass'])"
   ]
  },
  {
   "cell_type": "code",
   "execution_count": 15,
   "id": "930f4955",
   "metadata": {},
   "outputs": [
    {
     "name": "stdout",
     "output_type": "stream",
     "text": [
      "for feature workclass, \n",
      "4    22696\n",
      "6     2541\n",
      "2     2093\n",
      "0     1836\n",
      "7     1297\n",
      "5     1116\n",
      "1      960\n",
      "8       14\n",
      "3        7\n",
      "Name: workclass, dtype: int64\n",
      "\n",
      "\n",
      "for feature occupation, \n",
      "10    4140\n",
      "3     4099\n",
      "4     4066\n",
      "1     3769\n",
      "12    3650\n",
      "8     3295\n",
      "7     2002\n",
      "0     1843\n",
      "14    1597\n",
      "6     1370\n",
      "5      994\n",
      "13     928\n",
      "11     649\n",
      "9      149\n",
      "2        9\n",
      "Name: occupation, dtype: int64\n",
      "\n",
      "\n",
      "for feature native_country, \n",
      "39    29169\n",
      "26      643\n",
      "0       583\n",
      "30      198\n",
      "11      137\n",
      "2       121\n",
      "33      114\n",
      "8       106\n",
      "19      100\n",
      "5        95\n",
      "9        90\n",
      "23       81\n",
      "35       80\n",
      "3        75\n",
      "22       73\n",
      "6        70\n",
      "40       67\n",
      "13       64\n",
      "24       62\n",
      "31       60\n",
      "4        59\n",
      "36       51\n",
      "14       44\n",
      "20       43\n",
      "32       37\n",
      "27       34\n",
      "29       31\n",
      "10       29\n",
      "12       29\n",
      "7        28\n",
      "21       24\n",
      "17       20\n",
      "1        19\n",
      "38       19\n",
      "25       18\n",
      "37       18\n",
      "41       16\n",
      "28       14\n",
      "16       13\n",
      "18       13\n",
      "34       12\n",
      "15        1\n",
      "Name: native_country, dtype: int64\n",
      "\n",
      "\n"
     ]
    }
   ],
   "source": [
    "for k in ['workclass','occupation','native_country']:\n",
    "    print(f\"for feature {k}, \\n{df[k].value_counts()}\\n\\n\")"
   ]
  },
  {
   "cell_type": "code",
   "execution_count": 16,
   "id": "bc94cec3",
   "metadata": {},
   "outputs": [],
   "source": [
    "# as it's obvious from above that ? in all those 3 features have been encoded as 0."
   ]
  },
  {
   "cell_type": "code",
   "execution_count": 17,
   "id": "e10c6206",
   "metadata": {},
   "outputs": [
    {
     "name": "stdout",
     "output_type": "stream",
     "text": [
      "4    24532\n",
      "6     2541\n",
      "2     2093\n",
      "7     1297\n",
      "5     1116\n",
      "1      960\n",
      "8       14\n",
      "3        7\n",
      "Name: workclass, dtype: int64\n",
      "10    5983\n",
      "3     4099\n",
      "4     4066\n",
      "1     3769\n",
      "12    3650\n",
      "8     3295\n",
      "7     2002\n",
      "14    1597\n",
      "6     1370\n",
      "5      994\n",
      "13     928\n",
      "11     649\n",
      "9      149\n",
      "2        9\n",
      "Name: occupation, dtype: int64\n",
      "39    29752\n",
      "26      643\n",
      "30      198\n",
      "11      137\n",
      "2       121\n",
      "33      114\n",
      "8       106\n",
      "19      100\n",
      "5        95\n",
      "9        90\n",
      "23       81\n",
      "35       80\n",
      "3        75\n",
      "22       73\n",
      "6        70\n",
      "40       67\n",
      "13       64\n",
      "24       62\n",
      "31       60\n",
      "4        59\n",
      "36       51\n",
      "14       44\n",
      "20       43\n",
      "32       37\n",
      "27       34\n",
      "29       31\n",
      "10       29\n",
      "12       29\n",
      "7        28\n",
      "21       24\n",
      "17       20\n",
      "1        19\n",
      "38       19\n",
      "25       18\n",
      "37       18\n",
      "41       16\n",
      "28       14\n",
      "16       13\n",
      "18       13\n",
      "34       12\n",
      "15        1\n",
      "Name: native_country, dtype: int64\n"
     ]
    }
   ],
   "source": [
    "for k in ['workclass','occupation','native_country']:\n",
    "    md=df[k].mode()[0]\n",
    "    df[k]=df[k].replace(0,md)\n",
    "    print(df[k].value_counts())"
   ]
  },
  {
   "cell_type": "code",
   "execution_count": 18,
   "id": "40f69ead",
   "metadata": {},
   "outputs": [],
   "source": [
    "#let's check for skewness.."
   ]
  },
  {
   "cell_type": "code",
   "execution_count": 19,
   "id": "09a3babc",
   "metadata": {},
   "outputs": [
    {
     "data": {
      "image/png": "[encoded data removed]",
      "text/plain": [
       "<Figure size 720x720 with 5 Axes>"
      ]
     },
     "metadata": {},
     "output_type": "display_data"
    }
   ],
   "source": [
    "pltno=1\n",
    "plt.figure(figsize=(10,10),facecolor='yellow')\n",
    "for i in cont_cols:\n",
    "    plt.subplot(2,3,pltno)\n",
    "    sns.distplot(df[i])\n",
    "    plt.xlabel(i)\n",
    "    pltno+=1\n",
    "plt.tight_layout()"
   ]
  },
  {
   "cell_type": "code",
   "execution_count": 20,
   "id": "d6627a7e",
   "metadata": {},
   "outputs": [],
   "source": [
    "#there is lot of skewness in these continuous columns.."
   ]
  },
  {
   "cell_type": "code",
   "execution_count": 21,
   "id": "5b9539f7",
   "metadata": {},
   "outputs": [
    {
     "data": {
      "text/plain": [
       "age                0.558738\n",
       "workclass          0.076178\n",
       "fnlwgt             1.446972\n",
       "education         -0.934063\n",
       "education_num     -0.311630\n",
       "marital_status    -0.013448\n",
       "occupation         0.000536\n",
       "relationship       0.786784\n",
       "race              -2.435332\n",
       "sex               -0.719244\n",
       "capital_gain      11.953690\n",
       "capital_loss       4.594549\n",
       "hours_per_week     0.227636\n",
       "native_country    -4.243083\n",
       "income             1.212383\n",
       "dtype: float64"
      ]
     },
     "execution_count": 21,
     "metadata": {},
     "output_type": "execute_result"
    }
   ],
   "source": [
    "df.skew()"
   ]
  },
  {
   "cell_type": "code",
   "execution_count": 22,
   "id": "2269576e",
   "metadata": {},
   "outputs": [],
   "source": [
    "#let's check for outliers.."
   ]
  },
  {
   "cell_type": "code",
   "execution_count": 23,
   "id": "ca4893b0",
   "metadata": {},
   "outputs": [
    {
     "data": {
      "image/png": "[encoded data removed]",
      "text/plain": [
       "<Figure size 720x720 with 5 Axes>"
      ]
     },
     "metadata": {},
     "output_type": "display_data"
    }
   ],
   "source": [
    "pltno=1\n",
    "plt.figure(figsize=(10,10),facecolor='yellow')\n",
    "for i in cont_cols:\n",
    "    plt.subplot(2,3,pltno)\n",
    "    sns.boxplot(df[i])\n",
    "    plt.xlabel(i)\n",
    "    pltno+=1\n",
    "plt.tight_layout()"
   ]
  },
  {
   "cell_type": "code",
   "execution_count": 24,
   "id": "f804f0e6",
   "metadata": {},
   "outputs": [],
   "source": [
    "# there are lot of outliers in all of these continuous columns.."
   ]
  },
  {
   "cell_type": "code",
   "execution_count": 25,
   "id": "8bc60134",
   "metadata": {},
   "outputs": [],
   "source": [
    "from scipy.stats import zscore"
   ]
  },
  {
   "cell_type": "code",
   "execution_count": 26,
   "id": "07ed97cf",
   "metadata": {},
   "outputs": [
    {
     "data": {
      "text/plain": [
       "['workclass',\n",
       " 'education',\n",
       " 'marital_status',\n",
       " 'occupation',\n",
       " 'relationship',\n",
       " 'race',\n",
       " 'sex',\n",
       " 'native_country',\n",
       " 'income',\n",
       " 'education_num']"
      ]
     },
     "execution_count": 26,
     "metadata": {},
     "output_type": "execute_result"
    }
   ],
   "source": [
    "cat_cols"
   ]
  },
  {
   "cell_type": "code",
   "execution_count": 27,
   "id": "863e0d92",
   "metadata": {},
   "outputs": [
    {
     "data": {
      "text/html": [
       "<div>\n",
       "<style scoped>\n",
       "    .dataframe tbody tr th:only-of-type {\n",
       "        vertical-align: middle;\n",
       "    }\n",
       "\n",
       "    .dataframe tbody tr th {\n",
       "        vertical-align: top;\n",
       "    }\n",
       "\n",
       "    .dataframe thead th {\n",
       "        text-align: right;\n",
       "    }\n",
       "</style>\n",
       "<table border=\"1\" class=\"dataframe\">\n",
       "  <thead>\n",
       "    <tr style=\"text-align: right;\">\n",
       "      <th></th>\n",
       "      <th>workclass</th>\n",
       "      <th>education</th>\n",
       "      <th>education_num</th>\n",
       "      <th>marital_status</th>\n",
       "      <th>occupation</th>\n",
       "      <th>relationship</th>\n",
       "      <th>race</th>\n",
       "      <th>sex</th>\n",
       "      <th>native_country</th>\n",
       "      <th>income</th>\n",
       "    </tr>\n",
       "  </thead>\n",
       "  <tbody>\n",
       "    <tr>\n",
       "      <th>0</th>\n",
       "      <td>6</td>\n",
       "      <td>9</td>\n",
       "      <td>12</td>\n",
       "      <td>2</td>\n",
       "      <td>4</td>\n",
       "      <td>0</td>\n",
       "      <td>4</td>\n",
       "      <td>1</td>\n",
       "      <td>39</td>\n",
       "      <td>0</td>\n",
       "    </tr>\n",
       "    <tr>\n",
       "      <th>1</th>\n",
       "      <td>4</td>\n",
       "      <td>11</td>\n",
       "      <td>8</td>\n",
       "      <td>0</td>\n",
       "      <td>6</td>\n",
       "      <td>1</td>\n",
       "      <td>4</td>\n",
       "      <td>1</td>\n",
       "      <td>39</td>\n",
       "      <td>0</td>\n",
       "    </tr>\n",
       "    <tr>\n",
       "      <th>2</th>\n",
       "      <td>4</td>\n",
       "      <td>1</td>\n",
       "      <td>6</td>\n",
       "      <td>2</td>\n",
       "      <td>6</td>\n",
       "      <td>0</td>\n",
       "      <td>2</td>\n",
       "      <td>1</td>\n",
       "      <td>39</td>\n",
       "      <td>0</td>\n",
       "    </tr>\n",
       "    <tr>\n",
       "      <th>3</th>\n",
       "      <td>4</td>\n",
       "      <td>9</td>\n",
       "      <td>12</td>\n",
       "      <td>2</td>\n",
       "      <td>10</td>\n",
       "      <td>5</td>\n",
       "      <td>2</td>\n",
       "      <td>0</td>\n",
       "      <td>5</td>\n",
       "      <td>0</td>\n",
       "    </tr>\n",
       "    <tr>\n",
       "      <th>4</th>\n",
       "      <td>4</td>\n",
       "      <td>12</td>\n",
       "      <td>13</td>\n",
       "      <td>2</td>\n",
       "      <td>4</td>\n",
       "      <td>5</td>\n",
       "      <td>4</td>\n",
       "      <td>0</td>\n",
       "      <td>39</td>\n",
       "      <td>0</td>\n",
       "    </tr>\n",
       "    <tr>\n",
       "      <th>...</th>\n",
       "      <td>...</td>\n",
       "      <td>...</td>\n",
       "      <td>...</td>\n",
       "      <td>...</td>\n",
       "      <td>...</td>\n",
       "      <td>...</td>\n",
       "      <td>...</td>\n",
       "      <td>...</td>\n",
       "      <td>...</td>\n",
       "      <td>...</td>\n",
       "    </tr>\n",
       "    <tr>\n",
       "      <th>32555</th>\n",
       "      <td>4</td>\n",
       "      <td>7</td>\n",
       "      <td>11</td>\n",
       "      <td>2</td>\n",
       "      <td>13</td>\n",
       "      <td>5</td>\n",
       "      <td>4</td>\n",
       "      <td>0</td>\n",
       "      <td>39</td>\n",
       "      <td>0</td>\n",
       "    </tr>\n",
       "    <tr>\n",
       "      <th>32556</th>\n",
       "      <td>4</td>\n",
       "      <td>11</td>\n",
       "      <td>8</td>\n",
       "      <td>2</td>\n",
       "      <td>7</td>\n",
       "      <td>0</td>\n",
       "      <td>4</td>\n",
       "      <td>1</td>\n",
       "      <td>39</td>\n",
       "      <td>1</td>\n",
       "    </tr>\n",
       "    <tr>\n",
       "      <th>32557</th>\n",
       "      <td>4</td>\n",
       "      <td>11</td>\n",
       "      <td>8</td>\n",
       "      <td>6</td>\n",
       "      <td>1</td>\n",
       "      <td>4</td>\n",
       "      <td>4</td>\n",
       "      <td>0</td>\n",
       "      <td>39</td>\n",
       "      <td>0</td>\n",
       "    </tr>\n",
       "    <tr>\n",
       "      <th>32558</th>\n",
       "      <td>4</td>\n",
       "      <td>11</td>\n",
       "      <td>8</td>\n",
       "      <td>4</td>\n",
       "      <td>1</td>\n",
       "      <td>3</td>\n",
       "      <td>4</td>\n",
       "      <td>1</td>\n",
       "      <td>39</td>\n",
       "      <td>0</td>\n",
       "    </tr>\n",
       "    <tr>\n",
       "      <th>32559</th>\n",
       "      <td>5</td>\n",
       "      <td>11</td>\n",
       "      <td>8</td>\n",
       "      <td>2</td>\n",
       "      <td>4</td>\n",
       "      <td>5</td>\n",
       "      <td>4</td>\n",
       "      <td>0</td>\n",
       "      <td>39</td>\n",
       "      <td>1</td>\n",
       "    </tr>\n",
       "  </tbody>\n",
       "</table>\n",
       "<p>32560 rows × 10 columns</p>\n",
       "</div>"
      ],
      "text/plain": [
       "       workclass  education  education_num  marital_status  occupation  \\\n",
       "0              6          9             12               2           4   \n",
       "1              4         11              8               0           6   \n",
       "2              4          1              6               2           6   \n",
       "3              4          9             12               2          10   \n",
       "4              4         12             13               2           4   \n",
       "...          ...        ...            ...             ...         ...   \n",
       "32555          4          7             11               2          13   \n",
       "32556          4         11              8               2           7   \n",
       "32557          4         11              8               6           1   \n",
       "32558          4         11              8               4           1   \n",
       "32559          5         11              8               2           4   \n",
       "\n",
       "       relationship  race  sex  native_country  income  \n",
       "0                 0     4    1              39       0  \n",
       "1                 1     4    1              39       0  \n",
       "2                 0     2    1              39       0  \n",
       "3                 5     2    0               5       0  \n",
       "4                 5     4    0              39       0  \n",
       "...             ...   ...  ...             ...     ...  \n",
       "32555             5     4    0              39       0  \n",
       "32556             0     4    1              39       1  \n",
       "32557             4     4    0              39       0  \n",
       "32558             3     4    1              39       0  \n",
       "32559             5     4    0              39       1  \n",
       "\n",
       "[32560 rows x 10 columns]"
      ]
     },
     "execution_count": 27,
     "metadata": {},
     "output_type": "execute_result"
    }
   ],
   "source": [
    "df2=df.drop(columns=cont_cols,axis=1)\n",
    "df2"
   ]
  },
  {
   "cell_type": "code",
   "execution_count": 28,
   "id": "b4adccb4",
   "metadata": {},
   "outputs": [
    {
     "data": {
      "text/plain": [
       "age                True\n",
       "workclass          True\n",
       "fnlwgt             True\n",
       "education         False\n",
       "education_num      True\n",
       "marital_status    False\n",
       "occupation        False\n",
       "relationship      False\n",
       "race               True\n",
       "sex               False\n",
       "capital_gain       True\n",
       "capital_loss       True\n",
       "hours_per_week     True\n",
       "native_country     True\n",
       "income            False\n",
       "dtype: bool"
      ]
     },
     "execution_count": 28,
     "metadata": {},
     "output_type": "execute_result"
    }
   ],
   "source": [
    "((np.abs(zscore(df)))>3).any()"
   ]
  },
  {
   "cell_type": "code",
   "execution_count": 29,
   "id": "ec5deb35",
   "metadata": {},
   "outputs": [
    {
     "data": {
      "text/plain": [
       "[(array([  221,   429,   917,  1039,  1167,  1934,  2302,  2753,  2890,\n",
       "          2905,  3210,  3536,  3776,  3962,  4069,  4108,  4833,  5103,\n",
       "          5271,  5290,  5369,  5405,  6213,  6231,  6438,  6623,  6747,\n",
       "          7480,  7719,  7871,  8380,  8430,  8693,  8805,  8962,  8972,\n",
       "          9470, 10123, 10209, 10544, 11237, 11511, 11730, 11995, 12450,\n",
       "         12491, 12829, 12974, 13024, 13294, 13695, 13927, 14103, 14158,\n",
       "         14603, 14710, 14755, 15355, 15661, 15891, 16301, 16761, 16900,\n",
       "         18036, 18271, 18276, 18412, 18559, 18724, 18831, 19044, 19171,\n",
       "         19179, 19211, 19488, 19494, 19514, 19688, 19746, 20248, 20420,\n",
       "         20462, 20481, 20609, 20825, 20952, 21500, 21811, 21834, 22219,\n",
       "         22480, 22894, 22897, 23458, 24026, 24042, 24237, 24279, 24394,\n",
       "         24559, 25302, 25396, 26011, 26730, 27794, 28462, 28720, 28947,\n",
       "         29593, 29723, 31029, 31431, 31695, 31813, 31835, 31854, 32276,\n",
       "         32366, 32458, 32493, 32524], dtype=int64),),\n",
       " (array([   36,    39,   181,   191,   214,   229,   311,   413,   507,\n",
       "           650,   826,   913,   962,  1011,  1150,  1290,  1313,  1453,\n",
       "          1596,  1846,  1882,  1970,  2064,  2341,  2346,  2368,  2398,\n",
       "          2674,  2759,  2769,  2823,  2849,  2899,  2935,  2976,  3192,\n",
       "          3302,  3408,  3501,  3568,  3570,  3611,  3718,  3737,  3743,\n",
       "          3746,  3869,  3905,  3963,  3982,  4059,  4123,  4277,  4572,\n",
       "          4696,  4728,  4972,  5277,  5349,  5368,  5422,  5504,  5529,\n",
       "          5552,  5621,  5726,  6017,  6143,  6166,  6217,  6257,  6286,\n",
       "          6648,  6701,  6731,  6782,  6851,  6878,  7120,  7156,  7331,\n",
       "          7350,  7454,  7503,  7662,  7718,  7933,  8035,  8236,  8257,\n",
       "          8275,  8344,  8432,  8484,  8488,  8504,  8554,  8657,  8728,\n",
       "          8920,  8997,  9017,  9045,  9247,  9321,  9354,  9615,  9699,\n",
       "          9714,  9735,  9747,  9753,  9755,  9799,  9809, 10006, 10399,\n",
       "         10441, 10718, 10913, 11055, 11327, 11335, 11460, 11694, 11835,\n",
       "         11883, 11976, 12027, 12059, 12077, 12262, 12331, 12380, 12386,\n",
       "         12485, 12510, 12701, 12759, 12830, 12846, 12898, 12965, 13016,\n",
       "         13093, 13108, 13116, 13145, 13186, 13229, 13239, 13306, 13367,\n",
       "         13678, 14050, 14160, 14413, 14448, 14772, 14792, 14839, 15043,\n",
       "         15086, 15153, 15203, 15341, 15349, 15508, 15568, 15714, 15727,\n",
       "         15735, 15898, 15952, 15956, 16199, 16670, 16738, 16990, 17183,\n",
       "         17295, 17341, 17388, 17424, 17435, 17534, 17695, 17714, 17742,\n",
       "         17782, 18137, 18141, 18193, 18238, 18274, 18313, 18629, 18763,\n",
       "         18858, 18859, 18873, 18988, 19006, 19168, 19223, 19251, 19316,\n",
       "         19629, 19651, 19688, 19872, 20253, 20293, 20317, 20487, 20530,\n",
       "         20535, 20595, 20960, 21024, 21081, 21292, 21385, 21477, 21520,\n",
       "         21789, 21803, 21952, 21960, 21968, 22081, 22139, 22247, 22422,\n",
       "         22569, 22652, 22830, 22859, 22931, 22991, 23031, 23152, 23155,\n",
       "         23178, 23372, 23431, 23522, 23599, 23638, 23662, 23766, 23804,\n",
       "         23816, 23882, 23902, 23933, 24015, 24089, 24095, 24098, 24199,\n",
       "         24352, 24520, 24530, 24557, 24562, 25074, 25547, 25802, 25850,\n",
       "         25937, 26185, 26225, 26273, 26503, 26572, 26772, 26789, 26879,\n",
       "         26958, 27038, 27166, 27232, 27294, 27364, 27550, 27576, 27607,\n",
       "         27681, 27830, 27914, 27972, 28043, 28107, 28153, 28220, 28344,\n",
       "         28423, 28573, 28595, 28640, 28721, 28744, 28895, 28956, 29076,\n",
       "         29092, 29149, 29163, 29321, 29346, 29406, 29430, 29436, 29484,\n",
       "         29598, 29628, 29694, 29891, 29913, 29916, 30062, 30115, 30116,\n",
       "         30293, 30359, 30372, 30497, 30717, 30759, 30805, 30830, 30931,\n",
       "         31115, 31273, 31274, 31389, 31427, 31435, 31674, 31761, 31791,\n",
       "         31810, 32034, 32204, 32207, 32510], dtype=int64),),\n",
       " (array([    9,    27,    76,   156,   188,   271,   298,   519,   588,\n",
       "           934,  1033,  1035,  1063,  1065,  1171,  1199,  1261,  1271,\n",
       "          1410,  1416,  1457,  1499,  1683,  1729,  1823,  1886,  1928,\n",
       "          1986,  2014,  2332,  2357,  2428,  2443,  2593,  2760,  2919,\n",
       "          2931,  2958,  2962,  3091,  3224,  3290,  3301,  3342,  3577,\n",
       "          3748,  3772,  3908,  4085,  4090,  4100,  4235,  4293,  4307,\n",
       "          4311,  4336,  4347,  4440,  4567,  4735,  4777,  4861,  5084,\n",
       "          5171,  5241,  5375,  5431,  5467,  5488,  5506,  5589,  5593,\n",
       "          5631,  5681,  5765,  5807,  5876,  5915,  6069,  6083,  6179,\n",
       "          6379,  6389,  6474,  6523,  6617,  6692,  6742,  6743,  6821,\n",
       "          6845,  6897,  7026,  7099,  7141,  7526,  7579,  7605,  7677,\n",
       "          7808,  7809,  7862,  8037,  8044,  8068,  8071,  8148,  8159,\n",
       "          8223,  8374,  8392,  8409,  8430,  8446,  8550,  8583,  8627,\n",
       "          8633,  8653,  8668,  8703,  8710,  8744,  8779,  8795,  8822,\n",
       "          9057,  9123,  9146,  9321,  9397,  9581,  9717,  9740,  9810,\n",
       "          9830,  9883, 10059, 10125, 10136, 10142, 10259, 10265, 10376,\n",
       "         10467, 10727, 10840, 10849, 10913, 10953, 10956, 10985, 11058,\n",
       "         11134, 11156, 11450, 11452, 11502, 11786, 11832, 11834, 12007,\n",
       "         12208, 12329, 12335, 12491, 12519, 12616, 12624, 12787, 12875,\n",
       "         12917, 12923, 12971, 12972, 13004, 13025, 13335, 13339, 13369,\n",
       "         13557, 13579, 13616, 13624, 13693, 13706, 13857, 13927, 13931,\n",
       "         13986, 14202, 14367, 14508, 14510, 14572, 14592, 14641, 14644,\n",
       "         14766, 14985, 15007, 15015, 15179, 15355, 15373, 15383, 15411,\n",
       "         15459, 15507, 15533, 15602, 15708, 15794, 15853, 15898, 16018,\n",
       "         16035, 16137, 16293, 16317, 16421, 16603, 16867, 16914, 16930,\n",
       "         16959, 16991, 17164, 17252, 17285, 17332, 17439, 17504, 17610,\n",
       "         17612, 17633, 17673, 17814, 18357, 18395, 18602, 18656, 18704,\n",
       "         18824, 18880, 18965, 18974, 19052, 19140, 19159, 19295, 19336,\n",
       "         19352, 19398, 19418, 19426, 19445, 19528, 19730, 19749, 19777,\n",
       "         19803, 19924, 19943, 19994, 19996, 20035, 20042, 20071, 20282,\n",
       "         20428, 20562, 20577, 20587, 20592, 20607, 20695, 20877, 20908,\n",
       "         21055, 21146, 21248, 21349, 21398, 21581, 21830, 21851, 21858,\n",
       "         21891, 21999, 22129, 22189, 22215, 22236, 22312, 22386, 22390,\n",
       "         22556, 22719, 22950, 22954, 22959, 23081, 23105, 23178, 23216,\n",
       "         23225, 23247, 23251, 23395, 23397, 23466, 23475, 23518, 23535,\n",
       "         23579, 23648, 23667, 23748, 23829, 23902, 23924, 24004, 24231,\n",
       "         24251, 24283, 24377, 24482, 24575, 24731, 24868, 25077, 25129,\n",
       "         25145, 25174, 25289, 25327, 25330, 25353, 25363, 25612, 25673,\n",
       "         25712, 25716, 25805, 25830, 25966, 25985, 26119, 26144, 26154,\n",
       "         26249, 26311, 26399, 26428, 26595, 26637, 26755, 26779, 26857,\n",
       "         26886, 27174, 27179, 27221, 27581, 27593, 27610, 27726, 27763,\n",
       "         27808, 27838, 28067, 28111, 28220, 28362, 28410, 28477, 28478,\n",
       "         28593, 28624, 28897, 29016, 29096, 29186, 29262, 29272, 29445,\n",
       "         29491, 29507, 29682, 29687, 29750, 29751, 29774, 29866, 29941,\n",
       "         29988, 30001, 30010, 30035, 30199, 30204, 30339, 30521, 30531,\n",
       "         30554, 30609, 30726, 30753, 30765, 30806, 30835, 30991, 31045,\n",
       "         31107, 31162, 31389, 31391, 31431, 31501, 31532, 31596, 31650,\n",
       "         31680, 31698, 31753, 31804, 31836, 31848, 32000, 32078, 32156,\n",
       "         32390, 32401, 32458, 32468, 32475, 32493, 32524, 32530],\n",
       "        dtype=int64),),\n",
       " (array([   22,    31,    51, ..., 32442, 32444, 32457], dtype=int64),),\n",
       " (array([  105,   703,  1245,  1367,  1481,  1527,  1561,  1615,  1681,\n",
       "          1763,  1764,  1770,  1825,  2102,  2318,  2360,  2706,  3104,\n",
       "          3174,  3367,  3835,  4321,  4388,  4420,  4567,  4624,  4655,\n",
       "          4897,  4999,  5097,  5183,  5472,  5587,  5908,  6001,  6034,\n",
       "          6224,  6419,  6432,  6518,  6523,  6534,  6594,  6620,  6750,\n",
       "          7089,  7185,  7346,  7384,  7516,  7552,  7571,  7628,  7744,\n",
       "          8441,  8475,  8709,  8739,  8741,  9183,  9226,  9227,  9558,\n",
       "          9672,  9759, 10113, 10365, 10660, 10770, 10847, 10961, 10963,\n",
       "         11342, 11484, 11825, 11975, 12061, 12092, 12140, 12532, 12538,\n",
       "         12654, 12676, 12908, 13421, 13454, 13498, 13504, 13996, 14116,\n",
       "         14237, 14301, 14578, 14582, 14826, 15099, 15278, 15375, 15603,\n",
       "         15736, 15903, 16078, 16173, 16421, 16515, 16739, 17038, 17329,\n",
       "         17537, 17643, 17664, 17788, 17808, 18079, 18125, 18314, 18407,\n",
       "         18462, 18653, 18846, 18881, 19079, 19083, 19132, 19437, 19739,\n",
       "         19806, 19899, 19944, 20054, 20175, 20242, 20282, 20612, 20701,\n",
       "         20986, 21187, 21481, 21488, 21539, 21854, 21861, 21891, 21991,\n",
       "         22274, 22316, 22360, 22384, 22461, 22748, 22810, 23086, 23466,\n",
       "         23677, 23998, 24007, 24014, 24066, 24104, 24199, 24284, 24294,\n",
       "         24296, 24509, 24637, 24672, 24849, 24982, 25177, 25310, 25371,\n",
       "         25610, 25632, 25633, 25840, 26082, 26109, 26345, 26413, 26441,\n",
       "         26592, 26824, 27076, 27220, 27239, 27357, 27412, 27489, 27634,\n",
       "         27639, 27654, 27858, 28053, 28171, 28213, 28263, 28293, 28317,\n",
       "         28348, 29557, 29634, 29663, 29805, 29891, 30243, 30495, 30814,\n",
       "         30912, 31110, 31827, 31971, 32089, 32237, 32369, 32517],\n",
       "        dtype=int64),)]"
      ]
     },
     "execution_count": 29,
     "metadata": {},
     "output_type": "execute_result"
    }
   ],
   "source": [
    "ind=[]\n",
    "for i in cont_cols:\n",
    "    ind.append(np.where((np.abs(zscore(df[i])))>3))\n",
    "ind"
   ]
  },
  {
   "cell_type": "code",
   "execution_count": 30,
   "id": "c21d0bb7",
   "metadata": {},
   "outputs": [
    {
     "data": {
      "text/plain": [
       "215"
      ]
     },
     "execution_count": 30,
     "metadata": {},
     "output_type": "execute_result"
    }
   ],
   "source": [
    "len(ind[4][0])"
   ]
  },
  {
   "cell_type": "code",
   "execution_count": 31,
   "id": "637e8911",
   "metadata": {},
   "outputs": [
    {
     "data": {
      "text/plain": [
       "2593"
      ]
     },
     "execution_count": 31,
     "metadata": {},
     "output_type": "execute_result"
    }
   ],
   "source": [
    "l=0\n",
    "for i in range(5):\n",
    "    l=l+len(ind[i][0])\n",
    "l"
   ]
  },
  {
   "cell_type": "code",
   "execution_count": 32,
   "id": "2002b846",
   "metadata": {},
   "outputs": [
    {
     "data": {
      "text/plain": [
       "7.963759213759214"
      ]
     },
     "execution_count": 32,
     "metadata": {},
     "output_type": "execute_result"
    }
   ],
   "source": [
    "loss =(2593/32560)*100\n",
    "loss"
   ]
  },
  {
   "cell_type": "code",
   "execution_count": 33,
   "id": "55a29a26",
   "metadata": {},
   "outputs": [],
   "source": [
    "#maximum loss can be 7.96%. hence, outliers can be removed.."
   ]
  },
  {
   "cell_type": "code",
   "execution_count": 34,
   "id": "2027e8f1",
   "metadata": {},
   "outputs": [
    {
     "data": {
      "text/html": [
       "<div>\n",
       "<style scoped>\n",
       "    .dataframe tbody tr th:only-of-type {\n",
       "        vertical-align: middle;\n",
       "    }\n",
       "\n",
       "    .dataframe tbody tr th {\n",
       "        vertical-align: top;\n",
       "    }\n",
       "\n",
       "    .dataframe thead th {\n",
       "        text-align: right;\n",
       "    }\n",
       "</style>\n",
       "<table border=\"1\" class=\"dataframe\">\n",
       "  <thead>\n",
       "    <tr style=\"text-align: right;\">\n",
       "      <th></th>\n",
       "      <th>age</th>\n",
       "      <th>fnlwgt</th>\n",
       "      <th>capital_gain</th>\n",
       "      <th>capital_loss</th>\n",
       "      <th>hours_per_week</th>\n",
       "    </tr>\n",
       "  </thead>\n",
       "  <tbody>\n",
       "    <tr>\n",
       "      <th>0</th>\n",
       "      <td>50</td>\n",
       "      <td>83311</td>\n",
       "      <td>0</td>\n",
       "      <td>0</td>\n",
       "      <td>13</td>\n",
       "    </tr>\n",
       "    <tr>\n",
       "      <th>1</th>\n",
       "      <td>38</td>\n",
       "      <td>215646</td>\n",
       "      <td>0</td>\n",
       "      <td>0</td>\n",
       "      <td>40</td>\n",
       "    </tr>\n",
       "    <tr>\n",
       "      <th>2</th>\n",
       "      <td>53</td>\n",
       "      <td>234721</td>\n",
       "      <td>0</td>\n",
       "      <td>0</td>\n",
       "      <td>40</td>\n",
       "    </tr>\n",
       "    <tr>\n",
       "      <th>3</th>\n",
       "      <td>28</td>\n",
       "      <td>338409</td>\n",
       "      <td>0</td>\n",
       "      <td>0</td>\n",
       "      <td>40</td>\n",
       "    </tr>\n",
       "    <tr>\n",
       "      <th>4</th>\n",
       "      <td>37</td>\n",
       "      <td>284582</td>\n",
       "      <td>0</td>\n",
       "      <td>0</td>\n",
       "      <td>40</td>\n",
       "    </tr>\n",
       "    <tr>\n",
       "      <th>...</th>\n",
       "      <td>...</td>\n",
       "      <td>...</td>\n",
       "      <td>...</td>\n",
       "      <td>...</td>\n",
       "      <td>...</td>\n",
       "    </tr>\n",
       "    <tr>\n",
       "      <th>32555</th>\n",
       "      <td>27</td>\n",
       "      <td>257302</td>\n",
       "      <td>0</td>\n",
       "      <td>0</td>\n",
       "      <td>38</td>\n",
       "    </tr>\n",
       "    <tr>\n",
       "      <th>32556</th>\n",
       "      <td>40</td>\n",
       "      <td>154374</td>\n",
       "      <td>0</td>\n",
       "      <td>0</td>\n",
       "      <td>40</td>\n",
       "    </tr>\n",
       "    <tr>\n",
       "      <th>32557</th>\n",
       "      <td>58</td>\n",
       "      <td>151910</td>\n",
       "      <td>0</td>\n",
       "      <td>0</td>\n",
       "      <td>40</td>\n",
       "    </tr>\n",
       "    <tr>\n",
       "      <th>32558</th>\n",
       "      <td>22</td>\n",
       "      <td>201490</td>\n",
       "      <td>0</td>\n",
       "      <td>0</td>\n",
       "      <td>20</td>\n",
       "    </tr>\n",
       "    <tr>\n",
       "      <th>32559</th>\n",
       "      <td>52</td>\n",
       "      <td>287927</td>\n",
       "      <td>15024</td>\n",
       "      <td>0</td>\n",
       "      <td>40</td>\n",
       "    </tr>\n",
       "  </tbody>\n",
       "</table>\n",
       "<p>32560 rows × 5 columns</p>\n",
       "</div>"
      ],
      "text/plain": [
       "       age  fnlwgt  capital_gain  capital_loss  hours_per_week\n",
       "0       50   83311             0             0              13\n",
       "1       38  215646             0             0              40\n",
       "2       53  234721             0             0              40\n",
       "3       28  338409             0             0              40\n",
       "4       37  284582             0             0              40\n",
       "...    ...     ...           ...           ...             ...\n",
       "32555   27  257302             0             0              38\n",
       "32556   40  154374             0             0              40\n",
       "32557   58  151910             0             0              40\n",
       "32558   22  201490             0             0              20\n",
       "32559   52  287927         15024             0              40\n",
       "\n",
       "[32560 rows x 5 columns]"
      ]
     },
     "execution_count": 34,
     "metadata": {},
     "output_type": "execute_result"
    }
   ],
   "source": [
    "df2=df.drop(columns = cat_cols,axis=1)\n",
    "df2"
   ]
  },
  {
   "cell_type": "code",
   "execution_count": 35,
   "id": "1ae8d08f",
   "metadata": {},
   "outputs": [
    {
     "data": {
      "text/plain": [
       "age               True\n",
       "fnlwgt            True\n",
       "capital_gain      True\n",
       "capital_loss      True\n",
       "hours_per_week    True\n",
       "dtype: bool"
      ]
     },
     "execution_count": 35,
     "metadata": {},
     "output_type": "execute_result"
    }
   ],
   "source": [
    "((np.abs(zscore(df2)))>3).any()"
   ]
  },
  {
   "cell_type": "code",
   "execution_count": 36,
   "id": "389d01ba",
   "metadata": {},
   "outputs": [
    {
     "data": {
      "text/plain": [
       "(array([    9,    22,    27, ..., 32524, 32524, 32530], dtype=int64),\n",
       " array([4, 3, 4, ..., 0, 4, 4], dtype=int64))"
      ]
     },
     "execution_count": 36,
     "metadata": {},
     "output_type": "execute_result"
    }
   ],
   "source": [
    "ind1=np.where((np.abs(zscore(df2)))>3)\n",
    "ind1"
   ]
  },
  {
   "cell_type": "code",
   "execution_count": 37,
   "id": "02b76038",
   "metadata": {},
   "outputs": [
    {
     "data": {
      "text/plain": [
       "2593"
      ]
     },
     "execution_count": 37,
     "metadata": {},
     "output_type": "execute_result"
    }
   ],
   "source": [
    "len(ind1[0])"
   ]
  },
  {
   "cell_type": "code",
   "execution_count": 38,
   "id": "47324972",
   "metadata": {},
   "outputs": [
    {
     "data": {
      "text/html": [
       "<div>\n",
       "<style scoped>\n",
       "    .dataframe tbody tr th:only-of-type {\n",
       "        vertical-align: middle;\n",
       "    }\n",
       "\n",
       "    .dataframe tbody tr th {\n",
       "        vertical-align: top;\n",
       "    }\n",
       "\n",
       "    .dataframe thead th {\n",
       "        text-align: right;\n",
       "    }\n",
       "</style>\n",
       "<table border=\"1\" class=\"dataframe\">\n",
       "  <thead>\n",
       "    <tr style=\"text-align: right;\">\n",
       "      <th></th>\n",
       "      <th>age</th>\n",
       "      <th>workclass</th>\n",
       "      <th>fnlwgt</th>\n",
       "      <th>education</th>\n",
       "      <th>education_num</th>\n",
       "      <th>marital_status</th>\n",
       "      <th>occupation</th>\n",
       "      <th>relationship</th>\n",
       "      <th>race</th>\n",
       "      <th>sex</th>\n",
       "      <th>capital_gain</th>\n",
       "      <th>capital_loss</th>\n",
       "      <th>hours_per_week</th>\n",
       "      <th>native_country</th>\n",
       "      <th>income</th>\n",
       "    </tr>\n",
       "  </thead>\n",
       "  <tbody>\n",
       "    <tr>\n",
       "      <th>0</th>\n",
       "      <td>50</td>\n",
       "      <td>6</td>\n",
       "      <td>83311</td>\n",
       "      <td>9</td>\n",
       "      <td>12</td>\n",
       "      <td>2</td>\n",
       "      <td>4</td>\n",
       "      <td>0</td>\n",
       "      <td>4</td>\n",
       "      <td>1</td>\n",
       "      <td>0</td>\n",
       "      <td>0</td>\n",
       "      <td>13</td>\n",
       "      <td>39</td>\n",
       "      <td>0</td>\n",
       "    </tr>\n",
       "    <tr>\n",
       "      <th>1</th>\n",
       "      <td>38</td>\n",
       "      <td>4</td>\n",
       "      <td>215646</td>\n",
       "      <td>11</td>\n",
       "      <td>8</td>\n",
       "      <td>0</td>\n",
       "      <td>6</td>\n",
       "      <td>1</td>\n",
       "      <td>4</td>\n",
       "      <td>1</td>\n",
       "      <td>0</td>\n",
       "      <td>0</td>\n",
       "      <td>40</td>\n",
       "      <td>39</td>\n",
       "      <td>0</td>\n",
       "    </tr>\n",
       "    <tr>\n",
       "      <th>2</th>\n",
       "      <td>53</td>\n",
       "      <td>4</td>\n",
       "      <td>234721</td>\n",
       "      <td>1</td>\n",
       "      <td>6</td>\n",
       "      <td>2</td>\n",
       "      <td>6</td>\n",
       "      <td>0</td>\n",
       "      <td>2</td>\n",
       "      <td>1</td>\n",
       "      <td>0</td>\n",
       "      <td>0</td>\n",
       "      <td>40</td>\n",
       "      <td>39</td>\n",
       "      <td>0</td>\n",
       "    </tr>\n",
       "    <tr>\n",
       "      <th>3</th>\n",
       "      <td>28</td>\n",
       "      <td>4</td>\n",
       "      <td>338409</td>\n",
       "      <td>9</td>\n",
       "      <td>12</td>\n",
       "      <td>2</td>\n",
       "      <td>10</td>\n",
       "      <td>5</td>\n",
       "      <td>2</td>\n",
       "      <td>0</td>\n",
       "      <td>0</td>\n",
       "      <td>0</td>\n",
       "      <td>40</td>\n",
       "      <td>5</td>\n",
       "      <td>0</td>\n",
       "    </tr>\n",
       "    <tr>\n",
       "      <th>4</th>\n",
       "      <td>37</td>\n",
       "      <td>4</td>\n",
       "      <td>284582</td>\n",
       "      <td>12</td>\n",
       "      <td>13</td>\n",
       "      <td>2</td>\n",
       "      <td>4</td>\n",
       "      <td>5</td>\n",
       "      <td>4</td>\n",
       "      <td>0</td>\n",
       "      <td>0</td>\n",
       "      <td>0</td>\n",
       "      <td>40</td>\n",
       "      <td>39</td>\n",
       "      <td>0</td>\n",
       "    </tr>\n",
       "    <tr>\n",
       "      <th>...</th>\n",
       "      <td>...</td>\n",
       "      <td>...</td>\n",
       "      <td>...</td>\n",
       "      <td>...</td>\n",
       "      <td>...</td>\n",
       "      <td>...</td>\n",
       "      <td>...</td>\n",
       "      <td>...</td>\n",
       "      <td>...</td>\n",
       "      <td>...</td>\n",
       "      <td>...</td>\n",
       "      <td>...</td>\n",
       "      <td>...</td>\n",
       "      <td>...</td>\n",
       "      <td>...</td>\n",
       "    </tr>\n",
       "    <tr>\n",
       "      <th>32555</th>\n",
       "      <td>27</td>\n",
       "      <td>4</td>\n",
       "      <td>257302</td>\n",
       "      <td>7</td>\n",
       "      <td>11</td>\n",
       "      <td>2</td>\n",
       "      <td>13</td>\n",
       "      <td>5</td>\n",
       "      <td>4</td>\n",
       "      <td>0</td>\n",
       "      <td>0</td>\n",
       "      <td>0</td>\n",
       "      <td>38</td>\n",
       "      <td>39</td>\n",
       "      <td>0</td>\n",
       "    </tr>\n",
       "    <tr>\n",
       "      <th>32556</th>\n",
       "      <td>40</td>\n",
       "      <td>4</td>\n",
       "      <td>154374</td>\n",
       "      <td>11</td>\n",
       "      <td>8</td>\n",
       "      <td>2</td>\n",
       "      <td>7</td>\n",
       "      <td>0</td>\n",
       "      <td>4</td>\n",
       "      <td>1</td>\n",
       "      <td>0</td>\n",
       "      <td>0</td>\n",
       "      <td>40</td>\n",
       "      <td>39</td>\n",
       "      <td>1</td>\n",
       "    </tr>\n",
       "    <tr>\n",
       "      <th>32557</th>\n",
       "      <td>58</td>\n",
       "      <td>4</td>\n",
       "      <td>151910</td>\n",
       "      <td>11</td>\n",
       "      <td>8</td>\n",
       "      <td>6</td>\n",
       "      <td>1</td>\n",
       "      <td>4</td>\n",
       "      <td>4</td>\n",
       "      <td>0</td>\n",
       "      <td>0</td>\n",
       "      <td>0</td>\n",
       "      <td>40</td>\n",
       "      <td>39</td>\n",
       "      <td>0</td>\n",
       "    </tr>\n",
       "    <tr>\n",
       "      <th>32558</th>\n",
       "      <td>22</td>\n",
       "      <td>4</td>\n",
       "      <td>201490</td>\n",
       "      <td>11</td>\n",
       "      <td>8</td>\n",
       "      <td>4</td>\n",
       "      <td>1</td>\n",
       "      <td>3</td>\n",
       "      <td>4</td>\n",
       "      <td>1</td>\n",
       "      <td>0</td>\n",
       "      <td>0</td>\n",
       "      <td>20</td>\n",
       "      <td>39</td>\n",
       "      <td>0</td>\n",
       "    </tr>\n",
       "    <tr>\n",
       "      <th>32559</th>\n",
       "      <td>52</td>\n",
       "      <td>5</td>\n",
       "      <td>287927</td>\n",
       "      <td>11</td>\n",
       "      <td>8</td>\n",
       "      <td>2</td>\n",
       "      <td>4</td>\n",
       "      <td>5</td>\n",
       "      <td>4</td>\n",
       "      <td>0</td>\n",
       "      <td>15024</td>\n",
       "      <td>0</td>\n",
       "      <td>40</td>\n",
       "      <td>39</td>\n",
       "      <td>1</td>\n",
       "    </tr>\n",
       "  </tbody>\n",
       "</table>\n",
       "<p>30028 rows × 15 columns</p>\n",
       "</div>"
      ],
      "text/plain": [
       "       age  workclass  fnlwgt  education  education_num  marital_status  \\\n",
       "0       50          6   83311          9             12               2   \n",
       "1       38          4  215646         11              8               0   \n",
       "2       53          4  234721          1              6               2   \n",
       "3       28          4  338409          9             12               2   \n",
       "4       37          4  284582         12             13               2   \n",
       "...    ...        ...     ...        ...            ...             ...   \n",
       "32555   27          4  257302          7             11               2   \n",
       "32556   40          4  154374         11              8               2   \n",
       "32557   58          4  151910         11              8               6   \n",
       "32558   22          4  201490         11              8               4   \n",
       "32559   52          5  287927         11              8               2   \n",
       "\n",
       "       occupation  relationship  race  sex  capital_gain  capital_loss  \\\n",
       "0               4             0     4    1             0             0   \n",
       "1               6             1     4    1             0             0   \n",
       "2               6             0     2    1             0             0   \n",
       "3              10             5     2    0             0             0   \n",
       "4               4             5     4    0             0             0   \n",
       "...           ...           ...   ...  ...           ...           ...   \n",
       "32555          13             5     4    0             0             0   \n",
       "32556           7             0     4    1             0             0   \n",
       "32557           1             4     4    0             0             0   \n",
       "32558           1             3     4    1             0             0   \n",
       "32559           4             5     4    0         15024             0   \n",
       "\n",
       "       hours_per_week  native_country  income  \n",
       "0                  13              39       0  \n",
       "1                  40              39       0  \n",
       "2                  40              39       0  \n",
       "3                  40               5       0  \n",
       "4                  40              39       0  \n",
       "...               ...             ...     ...  \n",
       "32555              38              39       0  \n",
       "32556              40              39       1  \n",
       "32557              40              39       0  \n",
       "32558              20              39       0  \n",
       "32559              40              39       1  \n",
       "\n",
       "[30028 rows x 15 columns]"
      ]
     },
     "execution_count": 38,
     "metadata": {},
     "output_type": "execute_result"
    }
   ],
   "source": [
    "df=df.drop(df.index[ind1[0]])\n",
    "df"
   ]
  },
  {
   "cell_type": "code",
   "execution_count": 39,
   "id": "9d9674ae",
   "metadata": {},
   "outputs": [
    {
     "data": {
      "text/plain": [
       "age               False\n",
       "workclass         False\n",
       "fnlwgt            False\n",
       "education         False\n",
       "education_num     False\n",
       "marital_status    False\n",
       "occupation        False\n",
       "relationship      False\n",
       "race              False\n",
       "sex               False\n",
       "capital_gain      False\n",
       "capital_loss      False\n",
       "hours_per_week    False\n",
       "native_country    False\n",
       "income            False\n",
       "dtype: bool"
      ]
     },
     "execution_count": 39,
     "metadata": {},
     "output_type": "execute_result"
    }
   ],
   "source": [
    "((np.abs(zscore(df)))>3).all()"
   ]
  },
  {
   "cell_type": "code",
   "execution_count": 40,
   "id": "6e054c89",
   "metadata": {},
   "outputs": [],
   "source": [
    "#hence, outliers removed.."
   ]
  },
  {
   "cell_type": "code",
   "execution_count": 41,
   "id": "d7000278",
   "metadata": {},
   "outputs": [],
   "source": [
    "# let's check for skewness.."
   ]
  },
  {
   "cell_type": "code",
   "execution_count": 42,
   "id": "f7d023f3",
   "metadata": {},
   "outputs": [
    {
     "data": {
      "text/plain": [
       "age                0.489206\n",
       "workclass          0.093656\n",
       "fnlwgt             0.633615\n",
       "education         -0.927349\n",
       "education_num     -0.324321\n",
       "marital_status    -0.047716\n",
       "occupation         0.005921\n",
       "relationship       0.745900\n",
       "race              -2.431921\n",
       "sex               -0.681754\n",
       "capital_gain       4.957931\n",
       "capital_loss      29.761341\n",
       "hours_per_week    -0.350891\n",
       "native_country    -4.217552\n",
       "income             1.339595\n",
       "dtype: float64"
      ]
     },
     "execution_count": 42,
     "metadata": {},
     "output_type": "execute_result"
    }
   ],
   "source": [
    "df.skew()"
   ]
  },
  {
   "cell_type": "code",
   "execution_count": 43,
   "id": "823cee66",
   "metadata": {},
   "outputs": [],
   "source": [
    "#still, there's a lot of skewness in continuous features - age, fnlwgt, capital_gain and capital_loss.\n",
    "# so, let's do power transformation on this.."
   ]
  },
  {
   "cell_type": "code",
   "execution_count": 44,
   "id": "c1cda275",
   "metadata": {},
   "outputs": [],
   "source": [
    "from sklearn.preprocessing import PowerTransformer\n",
    "pt=PowerTransformer()"
   ]
  },
  {
   "cell_type": "code",
   "execution_count": 45,
   "id": "10517645",
   "metadata": {},
   "outputs": [
    {
     "data": {
      "text/html": [
       "<div>\n",
       "<style scoped>\n",
       "    .dataframe tbody tr th:only-of-type {\n",
       "        vertical-align: middle;\n",
       "    }\n",
       "\n",
       "    .dataframe tbody tr th {\n",
       "        vertical-align: top;\n",
       "    }\n",
       "\n",
       "    .dataframe thead th {\n",
       "        text-align: right;\n",
       "    }\n",
       "</style>\n",
       "<table border=\"1\" class=\"dataframe\">\n",
       "  <thead>\n",
       "    <tr style=\"text-align: right;\">\n",
       "      <th></th>\n",
       "      <th>age</th>\n",
       "      <th>workclass</th>\n",
       "      <th>fnlwgt</th>\n",
       "      <th>education</th>\n",
       "      <th>education_num</th>\n",
       "      <th>marital_status</th>\n",
       "      <th>occupation</th>\n",
       "      <th>relationship</th>\n",
       "      <th>race</th>\n",
       "      <th>sex</th>\n",
       "      <th>capital_gain</th>\n",
       "      <th>capital_loss</th>\n",
       "      <th>hours_per_week</th>\n",
       "      <th>native_country</th>\n",
       "      <th>income</th>\n",
       "    </tr>\n",
       "  </thead>\n",
       "  <tbody>\n",
       "    <tr>\n",
       "      <th>0</th>\n",
       "      <td>0.924752</td>\n",
       "      <td>6</td>\n",
       "      <td>-1.116219</td>\n",
       "      <td>9</td>\n",
       "      <td>12</td>\n",
       "      <td>2</td>\n",
       "      <td>4</td>\n",
       "      <td>0</td>\n",
       "      <td>4</td>\n",
       "      <td>1</td>\n",
       "      <td>-0.296001</td>\n",
       "      <td>-0.040013</td>\n",
       "      <td>-2.216033</td>\n",
       "      <td>39</td>\n",
       "      <td>0</td>\n",
       "    </tr>\n",
       "    <tr>\n",
       "      <th>1</th>\n",
       "      <td>0.126959</td>\n",
       "      <td>4</td>\n",
       "      <td>0.422177</td>\n",
       "      <td>11</td>\n",
       "      <td>8</td>\n",
       "      <td>0</td>\n",
       "      <td>6</td>\n",
       "      <td>1</td>\n",
       "      <td>4</td>\n",
       "      <td>1</td>\n",
       "      <td>-0.296001</td>\n",
       "      <td>-0.040013</td>\n",
       "      <td>-0.034840</td>\n",
       "      <td>39</td>\n",
       "      <td>0</td>\n",
       "    </tr>\n",
       "    <tr>\n",
       "      <th>2</th>\n",
       "      <td>1.099663</td>\n",
       "      <td>4</td>\n",
       "      <td>0.601968</td>\n",
       "      <td>1</td>\n",
       "      <td>6</td>\n",
       "      <td>2</td>\n",
       "      <td>6</td>\n",
       "      <td>0</td>\n",
       "      <td>2</td>\n",
       "      <td>1</td>\n",
       "      <td>-0.296001</td>\n",
       "      <td>-0.040013</td>\n",
       "      <td>-0.034840</td>\n",
       "      <td>39</td>\n",
       "      <td>0</td>\n",
       "    </tr>\n",
       "    <tr>\n",
       "      <th>3</th>\n",
       "      <td>-0.711387</td>\n",
       "      <td>4</td>\n",
       "      <td>1.480733</td>\n",
       "      <td>9</td>\n",
       "      <td>12</td>\n",
       "      <td>2</td>\n",
       "      <td>10</td>\n",
       "      <td>5</td>\n",
       "      <td>2</td>\n",
       "      <td>0</td>\n",
       "      <td>-0.296001</td>\n",
       "      <td>-0.040013</td>\n",
       "      <td>-0.034840</td>\n",
       "      <td>5</td>\n",
       "      <td>0</td>\n",
       "    </tr>\n",
       "    <tr>\n",
       "      <th>4</th>\n",
       "      <td>0.051693</td>\n",
       "      <td>4</td>\n",
       "      <td>1.042787</td>\n",
       "      <td>12</td>\n",
       "      <td>13</td>\n",
       "      <td>2</td>\n",
       "      <td>4</td>\n",
       "      <td>5</td>\n",
       "      <td>4</td>\n",
       "      <td>0</td>\n",
       "      <td>-0.296001</td>\n",
       "      <td>-0.040013</td>\n",
       "      <td>-0.034840</td>\n",
       "      <td>39</td>\n",
       "      <td>0</td>\n",
       "    </tr>\n",
       "    <tr>\n",
       "      <th>...</th>\n",
       "      <td>...</td>\n",
       "      <td>...</td>\n",
       "      <td>...</td>\n",
       "      <td>...</td>\n",
       "      <td>...</td>\n",
       "      <td>...</td>\n",
       "      <td>...</td>\n",
       "      <td>...</td>\n",
       "      <td>...</td>\n",
       "      <td>...</td>\n",
       "      <td>...</td>\n",
       "      <td>...</td>\n",
       "      <td>...</td>\n",
       "      <td>...</td>\n",
       "      <td>...</td>\n",
       "    </tr>\n",
       "    <tr>\n",
       "      <th>32555</th>\n",
       "      <td>-0.807818</td>\n",
       "      <td>4</td>\n",
       "      <td>0.806409</td>\n",
       "      <td>7</td>\n",
       "      <td>11</td>\n",
       "      <td>2</td>\n",
       "      <td>13</td>\n",
       "      <td>5</td>\n",
       "      <td>4</td>\n",
       "      <td>0</td>\n",
       "      <td>-0.296001</td>\n",
       "      <td>-0.040013</td>\n",
       "      <td>-0.217758</td>\n",
       "      <td>39</td>\n",
       "      <td>0</td>\n",
       "    </tr>\n",
       "    <tr>\n",
       "      <th>32556</th>\n",
       "      <td>0.272840</td>\n",
       "      <td>4</td>\n",
       "      <td>-0.211195</td>\n",
       "      <td>11</td>\n",
       "      <td>8</td>\n",
       "      <td>2</td>\n",
       "      <td>7</td>\n",
       "      <td>0</td>\n",
       "      <td>4</td>\n",
       "      <td>1</td>\n",
       "      <td>-0.296001</td>\n",
       "      <td>-0.040013</td>\n",
       "      <td>-0.034840</td>\n",
       "      <td>39</td>\n",
       "      <td>1</td>\n",
       "    </tr>\n",
       "    <tr>\n",
       "      <th>32557</th>\n",
       "      <td>1.374148</td>\n",
       "      <td>4</td>\n",
       "      <td>-0.238870</td>\n",
       "      <td>11</td>\n",
       "      <td>8</td>\n",
       "      <td>6</td>\n",
       "      <td>1</td>\n",
       "      <td>4</td>\n",
       "      <td>4</td>\n",
       "      <td>0</td>\n",
       "      <td>-0.296001</td>\n",
       "      <td>-0.040013</td>\n",
       "      <td>-0.034840</td>\n",
       "      <td>39</td>\n",
       "      <td>0</td>\n",
       "    </tr>\n",
       "    <tr>\n",
       "      <th>32558</th>\n",
       "      <td>-1.337480</td>\n",
       "      <td>4</td>\n",
       "      <td>0.284022</td>\n",
       "      <td>11</td>\n",
       "      <td>8</td>\n",
       "      <td>4</td>\n",
       "      <td>1</td>\n",
       "      <td>3</td>\n",
       "      <td>4</td>\n",
       "      <td>1</td>\n",
       "      <td>-0.296001</td>\n",
       "      <td>-0.040013</td>\n",
       "      <td>-1.720002</td>\n",
       "      <td>39</td>\n",
       "      <td>0</td>\n",
       "    </tr>\n",
       "    <tr>\n",
       "      <th>32559</th>\n",
       "      <td>1.042269</td>\n",
       "      <td>5</td>\n",
       "      <td>1.071046</td>\n",
       "      <td>11</td>\n",
       "      <td>8</td>\n",
       "      <td>2</td>\n",
       "      <td>4</td>\n",
       "      <td>5</td>\n",
       "      <td>4</td>\n",
       "      <td>0</td>\n",
       "      <td>3.378406</td>\n",
       "      <td>-0.040013</td>\n",
       "      <td>-0.034840</td>\n",
       "      <td>39</td>\n",
       "      <td>1</td>\n",
       "    </tr>\n",
       "  </tbody>\n",
       "</table>\n",
       "<p>30028 rows × 15 columns</p>\n",
       "</div>"
      ],
      "text/plain": [
       "            age  workclass    fnlwgt  education  education_num  \\\n",
       "0      0.924752          6 -1.116219          9             12   \n",
       "1      0.126959          4  0.422177         11              8   \n",
       "2      1.099663          4  0.601968          1              6   \n",
       "3     -0.711387          4  1.480733          9             12   \n",
       "4      0.051693          4  1.042787         12             13   \n",
       "...         ...        ...       ...        ...            ...   \n",
       "32555 -0.807818          4  0.806409          7             11   \n",
       "32556  0.272840          4 -0.211195         11              8   \n",
       "32557  1.374148          4 -0.238870         11              8   \n",
       "32558 -1.337480          4  0.284022         11              8   \n",
       "32559  1.042269          5  1.071046         11              8   \n",
       "\n",
       "       marital_status  occupation  relationship  race  sex  capital_gain  \\\n",
       "0                   2           4             0     4    1     -0.296001   \n",
       "1                   0           6             1     4    1     -0.296001   \n",
       "2                   2           6             0     2    1     -0.296001   \n",
       "3                   2          10             5     2    0     -0.296001   \n",
       "4                   2           4             5     4    0     -0.296001   \n",
       "...               ...         ...           ...   ...  ...           ...   \n",
       "32555               2          13             5     4    0     -0.296001   \n",
       "32556               2           7             0     4    1     -0.296001   \n",
       "32557               6           1             4     4    0     -0.296001   \n",
       "32558               4           1             3     4    1     -0.296001   \n",
       "32559               2           4             5     4    0      3.378406   \n",
       "\n",
       "       capital_loss  hours_per_week  native_country  income  \n",
       "0         -0.040013       -2.216033              39       0  \n",
       "1         -0.040013       -0.034840              39       0  \n",
       "2         -0.040013       -0.034840              39       0  \n",
       "3         -0.040013       -0.034840               5       0  \n",
       "4         -0.040013       -0.034840              39       0  \n",
       "...             ...             ...             ...     ...  \n",
       "32555     -0.040013       -0.217758              39       0  \n",
       "32556     -0.040013       -0.034840              39       1  \n",
       "32557     -0.040013       -0.034840              39       0  \n",
       "32558     -0.040013       -1.720002              39       0  \n",
       "32559     -0.040013       -0.034840              39       1  \n",
       "\n",
       "[30028 rows x 15 columns]"
      ]
     },
     "execution_count": 45,
     "metadata": {},
     "output_type": "execute_result"
    }
   ],
   "source": [
    "for i in cont_cols:\n",
    "    df[i]=pt.fit_transform(df[[i]])\n",
    "df"
   ]
  },
  {
   "cell_type": "code",
   "execution_count": 46,
   "id": "713205bb",
   "metadata": {},
   "outputs": [
    {
     "data": {
      "text/plain": [
       "age               -0.017300\n",
       "workclass          0.093656\n",
       "fnlwgt            -0.034890\n",
       "education         -0.927349\n",
       "education_num     -0.324321\n",
       "marital_status    -0.047716\n",
       "occupation         0.005921\n",
       "relationship       0.745900\n",
       "race              -2.431921\n",
       "sex               -0.681754\n",
       "capital_gain       3.082525\n",
       "capital_loss      24.952898\n",
       "hours_per_week     0.108301\n",
       "native_country    -4.217552\n",
       "income             1.339595\n",
       "dtype: float64"
      ]
     },
     "execution_count": 46,
     "metadata": {},
     "output_type": "execute_result"
    }
   ],
   "source": [
    "df.skew()"
   ]
  },
  {
   "cell_type": "code",
   "execution_count": 47,
   "id": "65c73e45",
   "metadata": {},
   "outputs": [],
   "source": [
    "# there's a huge skewness still present in capital_loss and capital_gain.."
   ]
  },
  {
   "cell_type": "code",
   "execution_count": 48,
   "id": "6c59d153",
   "metadata": {},
   "outputs": [],
   "source": [
    "#let's check their importance in model by correlation.."
   ]
  },
  {
   "cell_type": "code",
   "execution_count": 49,
   "id": "e8613be3",
   "metadata": {},
   "outputs": [
    {
     "data": {
      "text/html": [
       "<div>\n",
       "<style scoped>\n",
       "    .dataframe tbody tr th:only-of-type {\n",
       "        vertical-align: middle;\n",
       "    }\n",
       "\n",
       "    .dataframe tbody tr th {\n",
       "        vertical-align: top;\n",
       "    }\n",
       "\n",
       "    .dataframe thead th {\n",
       "        text-align: right;\n",
       "    }\n",
       "</style>\n",
       "<table border=\"1\" class=\"dataframe\">\n",
       "  <thead>\n",
       "    <tr style=\"text-align: right;\">\n",
       "      <th></th>\n",
       "      <th>age</th>\n",
       "      <th>workclass</th>\n",
       "      <th>fnlwgt</th>\n",
       "      <th>education</th>\n",
       "      <th>education_num</th>\n",
       "      <th>marital_status</th>\n",
       "      <th>occupation</th>\n",
       "      <th>relationship</th>\n",
       "      <th>race</th>\n",
       "      <th>sex</th>\n",
       "      <th>capital_gain</th>\n",
       "      <th>capital_loss</th>\n",
       "      <th>hours_per_week</th>\n",
       "      <th>native_country</th>\n",
       "      <th>income</th>\n",
       "    </tr>\n",
       "  </thead>\n",
       "  <tbody>\n",
       "    <tr>\n",
       "      <th>age</th>\n",
       "      <td>1.000000</td>\n",
       "      <td>0.029934</td>\n",
       "      <td>-0.066277</td>\n",
       "      <td>0.003923</td>\n",
       "      <td>0.059298</td>\n",
       "      <td>-0.327942</td>\n",
       "      <td>-0.012199</td>\n",
       "      <td>-0.282750</td>\n",
       "      <td>0.018692</td>\n",
       "      <td>0.097786</td>\n",
       "      <td>0.123067</td>\n",
       "      <td>0.019676</td>\n",
       "      <td>0.146905</td>\n",
       "      <td>-0.006824</td>\n",
       "      <td>0.262084</td>\n",
       "    </tr>\n",
       "    <tr>\n",
       "      <th>workclass</th>\n",
       "      <td>0.029934</td>\n",
       "      <td>1.000000</td>\n",
       "      <td>-0.024233</td>\n",
       "      <td>0.003333</td>\n",
       "      <td>0.000459</td>\n",
       "      <td>-0.016317</td>\n",
       "      <td>0.008136</td>\n",
       "      <td>-0.057682</td>\n",
       "      <td>0.045505</td>\n",
       "      <td>0.068906</td>\n",
       "      <td>0.003878</td>\n",
       "      <td>-0.009934</td>\n",
       "      <td>0.035373</td>\n",
       "      <td>-0.000697</td>\n",
       "      <td>-0.006898</td>\n",
       "    </tr>\n",
       "    <tr>\n",
       "      <th>fnlwgt</th>\n",
       "      <td>-0.066277</td>\n",
       "      <td>-0.024233</td>\n",
       "      <td>1.000000</td>\n",
       "      <td>-0.025269</td>\n",
       "      <td>-0.043314</td>\n",
       "      <td>0.028300</td>\n",
       "      <td>-0.003415</td>\n",
       "      <td>0.008535</td>\n",
       "      <td>-0.006205</td>\n",
       "      <td>0.026383</td>\n",
       "      <td>-0.004008</td>\n",
       "      <td>-0.000145</td>\n",
       "      <td>-0.018863</td>\n",
       "      <td>-0.067144</td>\n",
       "      <td>-0.007188</td>\n",
       "    </tr>\n",
       "    <tr>\n",
       "      <th>education</th>\n",
       "      <td>0.003923</td>\n",
       "      <td>0.003333</td>\n",
       "      <td>-0.025269</td>\n",
       "      <td>1.000000</td>\n",
       "      <td>0.360410</td>\n",
       "      <td>-0.035853</td>\n",
       "      <td>-0.042006</td>\n",
       "      <td>-0.009153</td>\n",
       "      <td>0.015971</td>\n",
       "      <td>-0.030643</td>\n",
       "      <td>0.017818</td>\n",
       "      <td>-0.000995</td>\n",
       "      <td>0.055189</td>\n",
       "      <td>0.079558</td>\n",
       "      <td>0.074714</td>\n",
       "    </tr>\n",
       "    <tr>\n",
       "      <th>education_num</th>\n",
       "      <td>0.059298</td>\n",
       "      <td>0.000459</td>\n",
       "      <td>-0.043314</td>\n",
       "      <td>0.360410</td>\n",
       "      <td>1.000000</td>\n",
       "      <td>-0.062141</td>\n",
       "      <td>0.066703</td>\n",
       "      <td>-0.090168</td>\n",
       "      <td>0.031629</td>\n",
       "      <td>0.006303</td>\n",
       "      <td>0.105397</td>\n",
       "      <td>0.009506</td>\n",
       "      <td>0.150705</td>\n",
       "      <td>0.092278</td>\n",
       "      <td>0.317044</td>\n",
       "    </tr>\n",
       "    <tr>\n",
       "      <th>marital_status</th>\n",
       "      <td>-0.327942</td>\n",
       "      <td>-0.016317</td>\n",
       "      <td>0.028300</td>\n",
       "      <td>-0.035853</td>\n",
       "      <td>-0.062141</td>\n",
       "      <td>1.000000</td>\n",
       "      <td>0.035310</td>\n",
       "      <td>0.185443</td>\n",
       "      <td>-0.066351</td>\n",
       "      <td>-0.124501</td>\n",
       "      <td>-0.064002</td>\n",
       "      <td>-0.017045</td>\n",
       "      <td>-0.191289</td>\n",
       "      <td>-0.019469</td>\n",
       "      <td>-0.194637</td>\n",
       "    </tr>\n",
       "    <tr>\n",
       "      <th>occupation</th>\n",
       "      <td>-0.012199</td>\n",
       "      <td>0.008136</td>\n",
       "      <td>-0.003415</td>\n",
       "      <td>-0.042006</td>\n",
       "      <td>0.066703</td>\n",
       "      <td>0.035310</td>\n",
       "      <td>1.000000</td>\n",
       "      <td>-0.036300</td>\n",
       "      <td>-0.003374</td>\n",
       "      <td>0.048755</td>\n",
       "      <td>0.006129</td>\n",
       "      <td>-0.000283</td>\n",
       "      <td>-0.015972</td>\n",
       "      <td>-0.001202</td>\n",
       "      <td>0.030271</td>\n",
       "    </tr>\n",
       "    <tr>\n",
       "      <th>relationship</th>\n",
       "      <td>-0.282750</td>\n",
       "      <td>-0.057682</td>\n",
       "      <td>0.008535</td>\n",
       "      <td>-0.009153</td>\n",
       "      <td>-0.090168</td>\n",
       "      <td>0.185443</td>\n",
       "      <td>-0.036300</td>\n",
       "      <td>1.000000</td>\n",
       "      <td>-0.116493</td>\n",
       "      <td>-0.576820</td>\n",
       "      <td>-0.080749</td>\n",
       "      <td>0.036295</td>\n",
       "      <td>-0.257543</td>\n",
       "      <td>-0.010190</td>\n",
       "      <td>-0.244848</td>\n",
       "    </tr>\n",
       "    <tr>\n",
       "      <th>race</th>\n",
       "      <td>0.018692</td>\n",
       "      <td>0.045505</td>\n",
       "      <td>-0.006205</td>\n",
       "      <td>0.015971</td>\n",
       "      <td>0.031629</td>\n",
       "      <td>-0.066351</td>\n",
       "      <td>-0.003374</td>\n",
       "      <td>-0.116493</td>\n",
       "      <td>1.000000</td>\n",
       "      <td>0.090040</td>\n",
       "      <td>0.024455</td>\n",
       "      <td>-0.000845</td>\n",
       "      <td>0.049864</td>\n",
       "      <td>0.113851</td>\n",
       "      <td>0.071960</td>\n",
       "    </tr>\n",
       "    <tr>\n",
       "      <th>sex</th>\n",
       "      <td>0.097786</td>\n",
       "      <td>0.068906</td>\n",
       "      <td>0.026383</td>\n",
       "      <td>-0.030643</td>\n",
       "      <td>0.006303</td>\n",
       "      <td>-0.124501</td>\n",
       "      <td>0.048755</td>\n",
       "      <td>-0.576820</td>\n",
       "      <td>0.090040</td>\n",
       "      <td>1.000000</td>\n",
       "      <td>0.063678</td>\n",
       "      <td>-0.033015</td>\n",
       "      <td>0.235346</td>\n",
       "      <td>0.002201</td>\n",
       "      <td>0.208901</td>\n",
       "    </tr>\n",
       "    <tr>\n",
       "      <th>capital_gain</th>\n",
       "      <td>0.123067</td>\n",
       "      <td>0.003878</td>\n",
       "      <td>-0.004008</td>\n",
       "      <td>0.017818</td>\n",
       "      <td>0.105397</td>\n",
       "      <td>-0.064002</td>\n",
       "      <td>0.006129</td>\n",
       "      <td>-0.080749</td>\n",
       "      <td>0.024455</td>\n",
       "      <td>0.063678</td>\n",
       "      <td>1.000000</td>\n",
       "      <td>-0.011844</td>\n",
       "      <td>0.074296</td>\n",
       "      <td>0.010754</td>\n",
       "      <td>0.262024</td>\n",
       "    </tr>\n",
       "    <tr>\n",
       "      <th>capital_loss</th>\n",
       "      <td>0.019676</td>\n",
       "      <td>-0.009934</td>\n",
       "      <td>-0.000145</td>\n",
       "      <td>-0.000995</td>\n",
       "      <td>0.009506</td>\n",
       "      <td>-0.017045</td>\n",
       "      <td>-0.000283</td>\n",
       "      <td>0.036295</td>\n",
       "      <td>-0.000845</td>\n",
       "      <td>-0.033015</td>\n",
       "      <td>-0.011844</td>\n",
       "      <td>1.000000</td>\n",
       "      <td>-0.003805</td>\n",
       "      <td>0.001599</td>\n",
       "      <td>-0.017346</td>\n",
       "    </tr>\n",
       "    <tr>\n",
       "      <th>hours_per_week</th>\n",
       "      <td>0.146905</td>\n",
       "      <td>0.035373</td>\n",
       "      <td>-0.018863</td>\n",
       "      <td>0.055189</td>\n",
       "      <td>0.150705</td>\n",
       "      <td>-0.191289</td>\n",
       "      <td>-0.015972</td>\n",
       "      <td>-0.257543</td>\n",
       "      <td>0.049864</td>\n",
       "      <td>0.235346</td>\n",
       "      <td>0.074296</td>\n",
       "      <td>-0.003805</td>\n",
       "      <td>1.000000</td>\n",
       "      <td>0.007888</td>\n",
       "      <td>0.232125</td>\n",
       "    </tr>\n",
       "    <tr>\n",
       "      <th>native_country</th>\n",
       "      <td>-0.006824</td>\n",
       "      <td>-0.000697</td>\n",
       "      <td>-0.067144</td>\n",
       "      <td>0.079558</td>\n",
       "      <td>0.092278</td>\n",
       "      <td>-0.019469</td>\n",
       "      <td>-0.001202</td>\n",
       "      <td>-0.010190</td>\n",
       "      <td>0.113851</td>\n",
       "      <td>0.002201</td>\n",
       "      <td>0.010754</td>\n",
       "      <td>0.001599</td>\n",
       "      <td>0.007888</td>\n",
       "      <td>1.000000</td>\n",
       "      <td>0.021637</td>\n",
       "    </tr>\n",
       "    <tr>\n",
       "      <th>income</th>\n",
       "      <td>0.262084</td>\n",
       "      <td>-0.006898</td>\n",
       "      <td>-0.007188</td>\n",
       "      <td>0.074714</td>\n",
       "      <td>0.317044</td>\n",
       "      <td>-0.194637</td>\n",
       "      <td>0.030271</td>\n",
       "      <td>-0.244848</td>\n",
       "      <td>0.071960</td>\n",
       "      <td>0.208901</td>\n",
       "      <td>0.262024</td>\n",
       "      <td>-0.017346</td>\n",
       "      <td>0.232125</td>\n",
       "      <td>0.021637</td>\n",
       "      <td>1.000000</td>\n",
       "    </tr>\n",
       "  </tbody>\n",
       "</table>\n",
       "</div>"
      ],
      "text/plain": [
       "                     age  workclass    fnlwgt  education  education_num  \\\n",
       "age             1.000000   0.029934 -0.066277   0.003923       0.059298   \n",
       "workclass       0.029934   1.000000 -0.024233   0.003333       0.000459   \n",
       "fnlwgt         -0.066277  -0.024233  1.000000  -0.025269      -0.043314   \n",
       "education       0.003923   0.003333 -0.025269   1.000000       0.360410   \n",
       "education_num   0.059298   0.000459 -0.043314   0.360410       1.000000   \n",
       "marital_status -0.327942  -0.016317  0.028300  -0.035853      -0.062141   \n",
       "occupation     -0.012199   0.008136 -0.003415  -0.042006       0.066703   \n",
       "relationship   -0.282750  -0.057682  0.008535  -0.009153      -0.090168   \n",
       "race            0.018692   0.045505 -0.006205   0.015971       0.031629   \n",
       "sex             0.097786   0.068906  0.026383  -0.030643       0.006303   \n",
       "capital_gain    0.123067   0.003878 -0.004008   0.017818       0.105397   \n",
       "capital_loss    0.019676  -0.009934 -0.000145  -0.000995       0.009506   \n",
       "hours_per_week  0.146905   0.035373 -0.018863   0.055189       0.150705   \n",
       "native_country -0.006824  -0.000697 -0.067144   0.079558       0.092278   \n",
       "income          0.262084  -0.006898 -0.007188   0.074714       0.317044   \n",
       "\n",
       "                marital_status  occupation  relationship      race       sex  \\\n",
       "age                  -0.327942   -0.012199     -0.282750  0.018692  0.097786   \n",
       "workclass            -0.016317    0.008136     -0.057682  0.045505  0.068906   \n",
       "fnlwgt                0.028300   -0.003415      0.008535 -0.006205  0.026383   \n",
       "education            -0.035853   -0.042006     -0.009153  0.015971 -0.030643   \n",
       "education_num        -0.062141    0.066703     -0.090168  0.031629  0.006303   \n",
       "marital_status        1.000000    0.035310      0.185443 -0.066351 -0.124501   \n",
       "occupation            0.035310    1.000000     -0.036300 -0.003374  0.048755   \n",
       "relationship          0.185443   -0.036300      1.000000 -0.116493 -0.576820   \n",
       "race                 -0.066351   -0.003374     -0.116493  1.000000  0.090040   \n",
       "sex                  -0.124501    0.048755     -0.576820  0.090040  1.000000   \n",
       "capital_gain         -0.064002    0.006129     -0.080749  0.024455  0.063678   \n",
       "capital_loss         -0.017045   -0.000283      0.036295 -0.000845 -0.033015   \n",
       "hours_per_week       -0.191289   -0.015972     -0.257543  0.049864  0.235346   \n",
       "native_country       -0.019469   -0.001202     -0.010190  0.113851  0.002201   \n",
       "income               -0.194637    0.030271     -0.244848  0.071960  0.208901   \n",
       "\n",
       "                capital_gain  capital_loss  hours_per_week  native_country  \\\n",
       "age                 0.123067      0.019676        0.146905       -0.006824   \n",
       "workclass           0.003878     -0.009934        0.035373       -0.000697   \n",
       "fnlwgt             -0.004008     -0.000145       -0.018863       -0.067144   \n",
       "education           0.017818     -0.000995        0.055189        0.079558   \n",
       "education_num       0.105397      0.009506        0.150705        0.092278   \n",
       "marital_status     -0.064002     -0.017045       -0.191289       -0.019469   \n",
       "occupation          0.006129     -0.000283       -0.015972       -0.001202   \n",
       "relationship       -0.080749      0.036295       -0.257543       -0.010190   \n",
       "race                0.024455     -0.000845        0.049864        0.113851   \n",
       "sex                 0.063678     -0.033015        0.235346        0.002201   \n",
       "capital_gain        1.000000     -0.011844        0.074296        0.010754   \n",
       "capital_loss       -0.011844      1.000000       -0.003805        0.001599   \n",
       "hours_per_week      0.074296     -0.003805        1.000000        0.007888   \n",
       "native_country      0.010754      0.001599        0.007888        1.000000   \n",
       "income              0.262024     -0.017346        0.232125        0.021637   \n",
       "\n",
       "                  income  \n",
       "age             0.262084  \n",
       "workclass      -0.006898  \n",
       "fnlwgt         -0.007188  \n",
       "education       0.074714  \n",
       "education_num   0.317044  \n",
       "marital_status -0.194637  \n",
       "occupation      0.030271  \n",
       "relationship   -0.244848  \n",
       "race            0.071960  \n",
       "sex             0.208901  \n",
       "capital_gain    0.262024  \n",
       "capital_loss   -0.017346  \n",
       "hours_per_week  0.232125  \n",
       "native_country  0.021637  \n",
       "income          1.000000  "
      ]
     },
     "execution_count": 49,
     "metadata": {},
     "output_type": "execute_result"
    }
   ],
   "source": [
    "df.corr()"
   ]
  },
  {
   "cell_type": "code",
   "execution_count": 50,
   "id": "609fa7d3",
   "metadata": {},
   "outputs": [
    {
     "data": {
      "text/plain": [
       "<AxesSubplot:>"
      ]
     },
     "execution_count": 50,
     "metadata": {},
     "output_type": "execute_result"
    },
    {
     "data": {
      "image/png": "[encoded data removed]",
      "text/plain": [
       "<Figure size 432x288 with 2 Axes>"
      ]
     },
     "metadata": {
      "needs_background": "light"
     },
     "output_type": "display_data"
    }
   ],
   "source": [
    "sns.heatmap(df.corr(),annot=True,annot_kws={'size':7})"
   ]
  },
  {
   "cell_type": "code",
   "execution_count": 51,
   "id": "54b45ae7",
   "metadata": {},
   "outputs": [],
   "source": [
    "# there are no such features which have high correlation between them.. education_num feature is highly correlated with target variable.."
   ]
  },
  {
   "cell_type": "code",
   "execution_count": 52,
   "id": "37507b39",
   "metadata": {},
   "outputs": [],
   "source": [
    "# let's check multicollinearity.."
   ]
  },
  {
   "cell_type": "code",
   "execution_count": 53,
   "id": "3461a892",
   "metadata": {},
   "outputs": [],
   "source": [
    "from statsmodels.stats.outliers_influence import variance_inflation_factor"
   ]
  },
  {
   "cell_type": "code",
   "execution_count": 54,
   "id": "8a0a2fb0",
   "metadata": {},
   "outputs": [],
   "source": [
    "def vif_check (df):\n",
    "    x=df.drop('income',axis=1)\n",
    "    vif=pd.DataFrame()\n",
    "    vif['vif']=[variance_inflation_factor(x,i) for i in range(x.shape[1])]\n",
    "    vif['features']=x.columns\n",
    "    print(vif)"
   ]
  },
  {
   "cell_type": "code",
   "execution_count": 55,
   "id": "474588e5",
   "metadata": {},
   "outputs": [
    {
     "name": "stdout",
     "output_type": "stream",
     "text": [
      "          vif        features\n",
      "0    1.201153             age\n",
      "1   12.858777       workclass\n",
      "2    1.009036          fnlwgt\n",
      "3    9.071326       education\n",
      "4   15.334642   education_num\n",
      "5    4.401544  marital_status\n",
      "6    4.146517      occupation\n",
      "7    2.842042    relationship\n",
      "8   17.221503            race\n",
      "9    4.283177             sex\n",
      "10   1.028762    capital_gain\n",
      "11   1.003129    capital_loss\n",
      "12   1.133416  hours_per_week\n",
      "13  27.232600  native_country\n"
     ]
    }
   ],
   "source": [
    "vif_check(df)"
   ]
  },
  {
   "cell_type": "code",
   "execution_count": 56,
   "id": "82977375",
   "metadata": {},
   "outputs": [
    {
     "name": "stdout",
     "output_type": "stream",
     "text": [
      "          vif        features\n",
      "0    1.196238             age\n",
      "1   11.972487       workclass\n",
      "2    1.007495          fnlwgt\n",
      "3    8.853357       education\n",
      "4   14.224714   education_num\n",
      "5    4.307752  marital_status\n",
      "6    4.098110      occupation\n",
      "7    2.722786    relationship\n",
      "8   14.083282            race\n",
      "9    4.143990             sex\n",
      "10   1.028143    capital_gain\n",
      "11   1.003129    capital_loss\n",
      "12   1.131974  hours_per_week\n"
     ]
    }
   ],
   "source": [
    "df=df.drop('native_country',axis=1)\n",
    "vif_check(df)"
   ]
  },
  {
   "cell_type": "code",
   "execution_count": 57,
   "id": "bfc28c2d",
   "metadata": {},
   "outputs": [
    {
     "name": "stdout",
     "output_type": "stream",
     "text": [
      "          vif        features\n",
      "0    1.191339             age\n",
      "1   11.568693       workclass\n",
      "2    1.006935          fnlwgt\n",
      "3    6.862605       education\n",
      "4    4.269344  marital_status\n",
      "5    3.968954      occupation\n",
      "6    2.711126    relationship\n",
      "7   13.041342            race\n",
      "8    4.129639             sex\n",
      "9    1.021372    capital_gain\n",
      "10   1.002954    capital_loss\n",
      "11   1.118115  hours_per_week\n"
     ]
    }
   ],
   "source": [
    "df=df.drop('education_num',axis=1)\n",
    "vif_check(df)"
   ]
  },
  {
   "cell_type": "code",
   "execution_count": 58,
   "id": "434e20e3",
   "metadata": {},
   "outputs": [
    {
     "name": "stdout",
     "output_type": "stream",
     "text": [
      "         vif        features\n",
      "0   1.184870             age\n",
      "1   9.326763       workclass\n",
      "2   1.006922          fnlwgt\n",
      "3   6.170765       education\n",
      "4   4.170501  marital_status\n",
      "5   3.847773      occupation\n",
      "6   2.635809    relationship\n",
      "7   3.845055             sex\n",
      "8   1.021304    capital_gain\n",
      "9   1.002895    capital_loss\n",
      "10  1.118012  hours_per_week\n"
     ]
    }
   ],
   "source": [
    "df=df.drop('race',axis=1)\n",
    "vif_check(df)"
   ]
  },
  {
   "cell_type": "code",
   "execution_count": 59,
   "id": "25d52706",
   "metadata": {},
   "outputs": [
    {
     "name": "stdout",
     "output_type": "stream",
     "text": [
      "        vif        features\n",
      "0  1.158421             age\n",
      "1  1.006522          fnlwgt\n",
      "2  5.034967       education\n",
      "3  3.889534  marital_status\n",
      "4  3.612833      occupation\n",
      "5  2.417022    relationship\n",
      "6  3.255485             sex\n",
      "7  1.021193    capital_gain\n",
      "8  1.002880    capital_loss\n",
      "9  1.117537  hours_per_week\n"
     ]
    }
   ],
   "source": [
    "df=df.drop('workclass',axis=1)\n",
    "vif_check(df)"
   ]
  },
  {
   "cell_type": "code",
   "execution_count": 60,
   "id": "c532ede7",
   "metadata": {},
   "outputs": [],
   "source": [
    "#hence, multicollinearity removed.."
   ]
  },
  {
   "cell_type": "code",
   "execution_count": 61,
   "id": "2b7b3e94",
   "metadata": {},
   "outputs": [],
   "source": [
    "# let's move towards feature selection.."
   ]
  },
  {
   "cell_type": "code",
   "execution_count": 62,
   "id": "e70f78ac",
   "metadata": {},
   "outputs": [],
   "source": [
    "from sklearn.feature_selection import SelectKBest, f_classif"
   ]
  },
  {
   "cell_type": "code",
   "execution_count": 63,
   "id": "dcd1ce76",
   "metadata": {},
   "outputs": [],
   "source": [
    "from sklearn.preprocessing import MinMaxScaler\n",
    "mms=MinMaxScaler()"
   ]
  },
  {
   "cell_type": "code",
   "execution_count": 64,
   "id": "703c6402",
   "metadata": {},
   "outputs": [
    {
     "data": {
      "text/html": [
       "<div>\n",
       "<style scoped>\n",
       "    .dataframe tbody tr th:only-of-type {\n",
       "        vertical-align: middle;\n",
       "    }\n",
       "\n",
       "    .dataframe tbody tr th {\n",
       "        vertical-align: top;\n",
       "    }\n",
       "\n",
       "    .dataframe thead th {\n",
       "        text-align: right;\n",
       "    }\n",
       "</style>\n",
       "<table border=\"1\" class=\"dataframe\">\n",
       "  <thead>\n",
       "    <tr style=\"text-align: right;\">\n",
       "      <th></th>\n",
       "      <th>scores</th>\n",
       "      <th>features</th>\n",
       "    </tr>\n",
       "  </thead>\n",
       "  <tbody>\n",
       "    <tr>\n",
       "      <th>0</th>\n",
       "      <td>2214.535343</td>\n",
       "      <td>age</td>\n",
       "    </tr>\n",
       "    <tr>\n",
       "      <th>7</th>\n",
       "      <td>2213.446187</td>\n",
       "      <td>capital_gain</td>\n",
       "    </tr>\n",
       "    <tr>\n",
       "      <th>5</th>\n",
       "      <td>1914.873125</td>\n",
       "      <td>relationship</td>\n",
       "    </tr>\n",
       "    <tr>\n",
       "      <th>9</th>\n",
       "      <td>1709.997012</td>\n",
       "      <td>hours_per_week</td>\n",
       "    </tr>\n",
       "    <tr>\n",
       "      <th>6</th>\n",
       "      <td>1370.117599</td>\n",
       "      <td>sex</td>\n",
       "    </tr>\n",
       "    <tr>\n",
       "      <th>3</th>\n",
       "      <td>1182.275340</td>\n",
       "      <td>marital_status</td>\n",
       "    </tr>\n",
       "    <tr>\n",
       "      <th>2</th>\n",
       "      <td>168.551573</td>\n",
       "      <td>education</td>\n",
       "    </tr>\n",
       "    <tr>\n",
       "      <th>4</th>\n",
       "      <td>27.539464</td>\n",
       "      <td>occupation</td>\n",
       "    </tr>\n",
       "    <tr>\n",
       "      <th>8</th>\n",
       "      <td>9.037228</td>\n",
       "      <td>capital_loss</td>\n",
       "    </tr>\n",
       "    <tr>\n",
       "      <th>1</th>\n",
       "      <td>1.551491</td>\n",
       "      <td>fnlwgt</td>\n",
       "    </tr>\n",
       "  </tbody>\n",
       "</table>\n",
       "</div>"
      ],
      "text/plain": [
       "        scores        features\n",
       "0  2214.535343             age\n",
       "7  2213.446187    capital_gain\n",
       "5  1914.873125    relationship\n",
       "9  1709.997012  hours_per_week\n",
       "6  1370.117599             sex\n",
       "3  1182.275340  marital_status\n",
       "2   168.551573       education\n",
       "4    27.539464      occupation\n",
       "8     9.037228    capital_loss\n",
       "1     1.551491          fnlwgt"
      ]
     },
     "execution_count": 64,
     "metadata": {},
     "output_type": "execute_result"
    }
   ],
   "source": [
    "for i in cont_cols:\n",
    "    df[i]=mms.fit_transform(df[[i]])\n",
    "x=df.drop('income',axis=1)\n",
    "y=df['income']\n",
    "best_features = SelectKBest(score_func=f_classif,k=6)\n",
    "fitt=best_features.fit(x,y)\n",
    "df_bf=pd.DataFrame({'scores':fitt.scores_,'features':x.columns})\n",
    "df_bf=df_bf.sort_values(by='scores', ascending=False)\n",
    "df_bf"
   ]
  },
  {
   "cell_type": "code",
   "execution_count": 65,
   "id": "ed16365d",
   "metadata": {},
   "outputs": [],
   "source": [
    "not_selected_features=['education','occupation','capital_loss','fnlwgt']"
   ]
  },
  {
   "cell_type": "code",
   "execution_count": 66,
   "id": "38fb2dde",
   "metadata": {},
   "outputs": [
    {
     "data": {
      "text/html": [
       "<div>\n",
       "<style scoped>\n",
       "    .dataframe tbody tr th:only-of-type {\n",
       "        vertical-align: middle;\n",
       "    }\n",
       "\n",
       "    .dataframe tbody tr th {\n",
       "        vertical-align: top;\n",
       "    }\n",
       "\n",
       "    .dataframe thead th {\n",
       "        text-align: right;\n",
       "    }\n",
       "</style>\n",
       "<table border=\"1\" class=\"dataframe\">\n",
       "  <thead>\n",
       "    <tr style=\"text-align: right;\">\n",
       "      <th></th>\n",
       "      <th>age</th>\n",
       "      <th>marital_status</th>\n",
       "      <th>relationship</th>\n",
       "      <th>sex</th>\n",
       "      <th>capital_gain</th>\n",
       "      <th>hours_per_week</th>\n",
       "      <th>income</th>\n",
       "    </tr>\n",
       "  </thead>\n",
       "  <tbody>\n",
       "    <tr>\n",
       "      <th>0</th>\n",
       "      <td>0.670055</td>\n",
       "      <td>2</td>\n",
       "      <td>0</td>\n",
       "      <td>1</td>\n",
       "      <td>0.0</td>\n",
       "      <td>0.080578</td>\n",
       "      <td>0</td>\n",
       "    </tr>\n",
       "    <tr>\n",
       "      <th>1</th>\n",
       "      <td>0.485536</td>\n",
       "      <td>0</td>\n",
       "      <td>1</td>\n",
       "      <td>1</td>\n",
       "      <td>0.0</td>\n",
       "      <td>0.415346</td>\n",
       "      <td>0</td>\n",
       "    </tr>\n",
       "    <tr>\n",
       "      <th>2</th>\n",
       "      <td>0.710509</td>\n",
       "      <td>2</td>\n",
       "      <td>0</td>\n",
       "      <td>1</td>\n",
       "      <td>0.0</td>\n",
       "      <td>0.415346</td>\n",
       "      <td>0</td>\n",
       "    </tr>\n",
       "    <tr>\n",
       "      <th>3</th>\n",
       "      <td>0.291637</td>\n",
       "      <td>2</td>\n",
       "      <td>5</td>\n",
       "      <td>0</td>\n",
       "      <td>0.0</td>\n",
       "      <td>0.415346</td>\n",
       "      <td>0</td>\n",
       "    </tr>\n",
       "    <tr>\n",
       "      <th>4</th>\n",
       "      <td>0.468128</td>\n",
       "      <td>2</td>\n",
       "      <td>5</td>\n",
       "      <td>0</td>\n",
       "      <td>0.0</td>\n",
       "      <td>0.415346</td>\n",
       "      <td>0</td>\n",
       "    </tr>\n",
       "    <tr>\n",
       "      <th>...</th>\n",
       "      <td>...</td>\n",
       "      <td>...</td>\n",
       "      <td>...</td>\n",
       "      <td>...</td>\n",
       "      <td>...</td>\n",
       "      <td>...</td>\n",
       "      <td>...</td>\n",
       "    </tr>\n",
       "    <tr>\n",
       "      <th>32555</th>\n",
       "      <td>0.269334</td>\n",
       "      <td>2</td>\n",
       "      <td>5</td>\n",
       "      <td>0</td>\n",
       "      <td>0.0</td>\n",
       "      <td>0.387272</td>\n",
       "      <td>0</td>\n",
       "    </tr>\n",
       "    <tr>\n",
       "      <th>32556</th>\n",
       "      <td>0.519276</td>\n",
       "      <td>2</td>\n",
       "      <td>0</td>\n",
       "      <td>1</td>\n",
       "      <td>0.0</td>\n",
       "      <td>0.415346</td>\n",
       "      <td>1</td>\n",
       "    </tr>\n",
       "    <tr>\n",
       "      <th>32557</th>\n",
       "      <td>0.773994</td>\n",
       "      <td>6</td>\n",
       "      <td>4</td>\n",
       "      <td>0</td>\n",
       "      <td>0.0</td>\n",
       "      <td>0.415346</td>\n",
       "      <td>0</td>\n",
       "    </tr>\n",
       "    <tr>\n",
       "      <th>32558</th>\n",
       "      <td>0.146830</td>\n",
       "      <td>4</td>\n",
       "      <td>3</td>\n",
       "      <td>1</td>\n",
       "      <td>0.0</td>\n",
       "      <td>0.156709</td>\n",
       "      <td>0</td>\n",
       "    </tr>\n",
       "    <tr>\n",
       "      <th>32559</th>\n",
       "      <td>0.697235</td>\n",
       "      <td>2</td>\n",
       "      <td>5</td>\n",
       "      <td>0</td>\n",
       "      <td>1.0</td>\n",
       "      <td>0.415346</td>\n",
       "      <td>1</td>\n",
       "    </tr>\n",
       "  </tbody>\n",
       "</table>\n",
       "<p>30028 rows × 7 columns</p>\n",
       "</div>"
      ],
      "text/plain": [
       "            age  marital_status  relationship  sex  capital_gain  \\\n",
       "0      0.670055               2             0    1           0.0   \n",
       "1      0.485536               0             1    1           0.0   \n",
       "2      0.710509               2             0    1           0.0   \n",
       "3      0.291637               2             5    0           0.0   \n",
       "4      0.468128               2             5    0           0.0   \n",
       "...         ...             ...           ...  ...           ...   \n",
       "32555  0.269334               2             5    0           0.0   \n",
       "32556  0.519276               2             0    1           0.0   \n",
       "32557  0.773994               6             4    0           0.0   \n",
       "32558  0.146830               4             3    1           0.0   \n",
       "32559  0.697235               2             5    0           1.0   \n",
       "\n",
       "       hours_per_week  income  \n",
       "0            0.080578       0  \n",
       "1            0.415346       0  \n",
       "2            0.415346       0  \n",
       "3            0.415346       0  \n",
       "4            0.415346       0  \n",
       "...               ...     ...  \n",
       "32555        0.387272       0  \n",
       "32556        0.415346       1  \n",
       "32557        0.415346       0  \n",
       "32558        0.156709       0  \n",
       "32559        0.415346       1  \n",
       "\n",
       "[30028 rows x 7 columns]"
      ]
     },
     "execution_count": 66,
     "metadata": {},
     "output_type": "execute_result"
    }
   ],
   "source": [
    "df=df.drop(columns=not_selected_features,axis=1)\n",
    "df"
   ]
  },
  {
   "cell_type": "code",
   "execution_count": 67,
   "id": "14fd4b10",
   "metadata": {},
   "outputs": [],
   "source": [
    "# now, capital_loss feature which had a lot of skewness associated with it is also removed.. let's move towards model development.."
   ]
  },
  {
   "cell_type": "code",
   "execution_count": 68,
   "id": "d19ed201",
   "metadata": {},
   "outputs": [],
   "source": [
    "# it's a classification problem..."
   ]
  },
  {
   "cell_type": "code",
   "execution_count": 69,
   "id": "299f96ab",
   "metadata": {},
   "outputs": [],
   "source": [
    "from sklearn.model_selection import train_test_split,cross_val_score\n",
    "from sklearn.linear_model import LogisticRegression\n",
    "from sklearn.neighbors import KNeighborsClassifier\n",
    "from sklearn.ensemble import RandomForestClassifier,AdaBoostClassifier\n",
    "from sklearn.svm import SVC\n",
    "from sklearn.metrics import accuracy_score,classification_report,roc_auc_score,roc_curve,plot_roc_curve"
   ]
  },
  {
   "cell_type": "code",
   "execution_count": 70,
   "id": "469aa454",
   "metadata": {},
   "outputs": [],
   "source": [
    "def algo_class_check (x,y,algo):\n",
    "    max_acc=0\n",
    "    max_i=0\n",
    "    for i in range(100):\n",
    "        x_train,x_test,y_train,y_test = train_test_split(x,y,test_size=0.25,random_state = i)\n",
    "        algo.fit(x_train,y_train)\n",
    "        y_pred = algo.predict(x_test)\n",
    "        acc= accuracy_score(y_test,y_pred)\n",
    "        if acc> max_acc:\n",
    "            max_acc=acc\n",
    "            max_i = i\n",
    "            i+=1\n",
    "    x_train,x_test,y_train,y_test = train_test_split(x,y,test_size=0.25,random_state = max_i)\n",
    "    algo.fit(x_train,y_train)\n",
    "    y_pred = algo.predict(x_test)\n",
    "    acc= accuracy_score(y_test,y_pred)\n",
    "    cvs=cross_val_score(algo,x_train,y_train,cv=7,scoring='accuracy')\n",
    "    ac=cvs.mean()\n",
    "    print(f'''for algo {algo}, the maximum accuracy is {max_acc} ,\\n classification report is : \\n {classification_report(y_test,y_pred)} ,\n",
    "    \\n roc_auc_score is : {roc_auc_score(y_test,y_pred)} \\n roc curve is :{plot_roc_curve(algo,x,y)} \\n at random_state{max_i} \\n and cross validation score is {ac}''') \n",
    " "
   ]
  },
  {
   "cell_type": "code",
   "execution_count": 71,
   "id": "b32d09f0",
   "metadata": {},
   "outputs": [],
   "source": [
    "lc=LogisticRegression()\n",
    "knc=KNeighborsClassifier()\n",
    "rfc=RandomForestClassifier()\n",
    "abc=AdaBoostClassifier()\n",
    "svc=SVC()"
   ]
  },
  {
   "cell_type": "code",
   "execution_count": 73,
   "id": "aaa3f119",
   "metadata": {},
   "outputs": [],
   "source": [
    "x_new=df.drop('income',axis=1)\n",
    "y_new=df['income']"
   ]
  },
  {
   "cell_type": "code",
   "execution_count": 74,
   "id": "8dac37fc",
   "metadata": {},
   "outputs": [
    {
     "name": "stdout",
     "output_type": "stream",
     "text": [
      "for algo LogisticRegression(), the maximum accuracy is 0.8064473158385507 ,\n",
      " classification report is : \n",
      "               precision    recall  f1-score   support\n",
      "\n",
      "           0       0.82      0.96      0.89      5882\n",
      "           1       0.64      0.24      0.35      1625\n",
      "\n",
      "    accuracy                           0.81      7507\n",
      "   macro avg       0.73      0.60      0.62      7507\n",
      "weighted avg       0.78      0.81      0.77      7507\n",
      " ,\n",
      "    \n",
      " roc_auc_score is : 0.6012462009259016 \n",
      " roc curve is :<sklearn.metrics._plot.roc_curve.RocCurveDisplay object at 0x000001FFBA9320A0> \n",
      " at random_state86 \n",
      " and cross validation score is 0.7923272912748687\n"
     ]
    },
    {
     "data": {
      "image/png": "[encoded data removed]",
      "text/plain": [
       "<Figure size 432x288 with 1 Axes>"
      ]
     },
     "metadata": {
      "needs_background": "light"
     },
     "output_type": "display_data"
    }
   ],
   "source": [
    "algo_class_check(x_new,y_new,lc)"
   ]
  },
  {
   "cell_type": "code",
   "execution_count": 75,
   "id": "94b22d5b",
   "metadata": {},
   "outputs": [
    {
     "name": "stdout",
     "output_type": "stream",
     "text": [
      "for algo RandomForestClassifier(), the maximum accuracy is 0.8250965765285734 ,\n",
      " classification report is : \n",
      "               precision    recall  f1-score   support\n",
      "\n",
      "           0       0.86      0.93      0.89      5891\n",
      "           1       0.63      0.44      0.52      1616\n",
      "\n",
      "    accuracy                           0.82      7507\n",
      "   macro avg       0.74      0.68      0.71      7507\n",
      "weighted avg       0.81      0.82      0.81      7507\n",
      " ,\n",
      "    \n",
      " roc_auc_score is : 0.6843153404841418 \n",
      " roc curve is :<sklearn.metrics._plot.roc_curve.RocCurveDisplay object at 0x000001FFB446B5B0> \n",
      " at random_state28 \n",
      " and cross validation score is 0.8097329370728746\n"
     ]
    },
    {
     "data": {
      "image/png": "[encoded data removed]",
      "text/plain": [
       "<Figure size 432x288 with 1 Axes>"
      ]
     },
     "metadata": {
      "needs_background": "light"
     },
     "output_type": "display_data"
    }
   ],
   "source": [
    "algo_class_check(x_new,y_new,rfc)"
   ]
  },
  {
   "cell_type": "code",
   "execution_count": 76,
   "id": "9b02a8e5",
   "metadata": {},
   "outputs": [
    {
     "name": "stdout",
     "output_type": "stream",
     "text": [
      "for algo AdaBoostClassifier(), the maximum accuracy is 0.8360197149327294 ,\n",
      " classification report is : \n",
      "               precision    recall  f1-score   support\n",
      "\n",
      "           0       0.86      0.94      0.90      5891\n",
      "           1       0.68      0.44      0.54      1616\n",
      "\n",
      "    accuracy                           0.84      7507\n",
      "   macro avg       0.77      0.69      0.72      7507\n",
      "weighted avg       0.82      0.84      0.82      7507\n",
      " ,\n",
      "    \n",
      " roc_auc_score is : 0.6938900126220398 \n",
      " roc curve is :<sklearn.metrics._plot.roc_curve.RocCurveDisplay object at 0x000001FFB95673D0> \n",
      " at random_state28 \n",
      " and cross validation score is 0.8244750493271741\n"
     ]
    },
    {
     "data": {
      "image/png": "[encoded data removed]",
      "text/plain": [
       "<Figure size 432x288 with 1 Axes>"
      ]
     },
     "metadata": {
      "needs_background": "light"
     },
     "output_type": "display_data"
    }
   ],
   "source": [
    "algo_class_check(x_new,y_new,abc)"
   ]
  },
  {
   "cell_type": "code",
   "execution_count": 77,
   "id": "63ef3e1c",
   "metadata": {},
   "outputs": [
    {
     "name": "stdout",
     "output_type": "stream",
     "text": [
      "for algo KNeighborsClassifier(), the maximum accuracy is 0.8045823897695484 ,\n",
      " classification report is : \n",
      "               precision    recall  f1-score   support\n",
      "\n",
      "           0       0.85      0.91      0.88      5834\n",
      "           1       0.58      0.44      0.50      1673\n",
      "\n",
      "    accuracy                           0.80      7507\n",
      "   macro avg       0.72      0.67      0.69      7507\n",
      "weighted avg       0.79      0.80      0.79      7507\n",
      " ,\n",
      "    \n",
      " roc_auc_score is : 0.67390127662295 \n",
      " roc curve is :<sklearn.metrics._plot.roc_curve.RocCurveDisplay object at 0x000001FFB446B580> \n",
      " at random_state52 \n",
      " and cross validation score is 0.7936148442951468\n"
     ]
    },
    {
     "data": {
      "image/png": "[encoded data removed]",
      "text/plain": [
       "<Figure size 432x288 with 1 Axes>"
      ]
     },
     "metadata": {
      "needs_background": "light"
     },
     "output_type": "display_data"
    }
   ],
   "source": [
    "algo_class_check(x_new,y_new,knc)"
   ]
  },
  {
   "cell_type": "code",
   "execution_count": 78,
   "id": "06a6d866",
   "metadata": {},
   "outputs": [
    {
     "name": "stdout",
     "output_type": "stream",
     "text": [
      "for algo SVC(), the maximum accuracy is 0.8119088850406287 ,\n",
      " classification report is : \n",
      "               precision    recall  f1-score   support\n",
      "\n",
      "           0       0.82      0.98      0.89      5891\n",
      "           1       0.75      0.19      0.30      1616\n",
      "\n",
      "    accuracy                           0.81      7507\n",
      "   macro avg       0.78      0.59      0.60      7507\n",
      "weighted avg       0.80      0.81      0.76      7507\n",
      " ,\n",
      "    \n",
      " roc_auc_score is : 0.5853473518927177 \n",
      " roc curve is :<sklearn.metrics._plot.roc_curve.RocCurveDisplay object at 0x000001FFB57BF370> \n",
      " at random_state28 \n",
      " and cross validation score is 0.7989432361391613\n"
     ]
    },
    {
     "data": {
      "image/png": "[encoded data removed]",
      "text/plain": [
       "<Figure size 432x288 with 1 Axes>"
      ]
     },
     "metadata": {
      "needs_background": "light"
     },
     "output_type": "display_data"
    }
   ],
   "source": [
    "algo_class_check(x_new,y_new,svc)"
   ]
  },
  {
   "cell_type": "code",
   "execution_count": 79,
   "id": "b28d1630",
   "metadata": {},
   "outputs": [],
   "source": [
    "# so, as clear from above results, abc has maximum accuracy as well as maximum cross_val_score, at random_state 28.. so, i m going to finalize this.."
   ]
  },
  {
   "cell_type": "code",
   "execution_count": 80,
   "id": "faa8f8e5",
   "metadata": {},
   "outputs": [
    {
     "name": "stdout",
     "output_type": "stream",
     "text": [
      "for AdaBoostClassifier algo, the accuracy is 0.8360197149327294 ,\n",
      " classification report is : \n",
      "               precision    recall  f1-score   support\n",
      "\n",
      "           0       0.86      0.94      0.90      5891\n",
      "           1       0.68      0.44      0.54      1616\n",
      "\n",
      "    accuracy                           0.84      7507\n",
      "   macro avg       0.77      0.69      0.72      7507\n",
      "weighted avg       0.82      0.84      0.82      7507\n",
      " ,\n",
      "    \n",
      " roc_auc_score is : 0.6938900126220398 \n",
      " roc curve is :<sklearn.metrics._plot.roc_curve.RocCurveDisplay object at 0x000001FFB9AEB280> \n",
      " and cross validation score is 0.8244750493271741\n"
     ]
    },
    {
     "data": {
      "image/png": "[encoded data removed]",
      "text/plain": [
       "<Figure size 432x288 with 1 Axes>"
      ]
     },
     "metadata": {
      "needs_background": "light"
     },
     "output_type": "display_data"
    }
   ],
   "source": [
    "x_train,x_test,y_train,y_test = train_test_split(x_new,y_new,test_size=0.25,random_state = 28)\n",
    "abc.fit(x_train,y_train)\n",
    "y_pred = abc.predict(x_test)\n",
    "acc= accuracy_score(y_test,y_pred)\n",
    "cvs=cross_val_score(abc,x_train,y_train,cv=7,scoring='accuracy')\n",
    "ac=cvs.mean()\n",
    "print(f'''for AdaBoostClassifier algo, the accuracy is {acc} ,\\n classification report is : \\n {classification_report(y_test,y_pred)} ,\n",
    "    \\n roc_auc_score is : {roc_auc_score(y_test,y_pred)} \\n roc curve is :{plot_roc_curve(abc,x_new,y_new)} \\n and cross validation score is {ac}''') \n",
    " "
   ]
  },
  {
   "cell_type": "code",
   "execution_count": 81,
   "id": "1cbbd4b8",
   "metadata": {},
   "outputs": [],
   "source": [
    "# let's hypertune.."
   ]
  },
  {
   "cell_type": "code",
   "execution_count": 82,
   "id": "1caa7401",
   "metadata": {},
   "outputs": [],
   "source": [
    "from sklearn.model_selection import GridSearchCV"
   ]
  },
  {
   "cell_type": "code",
   "execution_count": 84,
   "id": "44667378",
   "metadata": {},
   "outputs": [
    {
     "data": {
      "text/plain": [
       "{'algorithm': 'SAMME.R', 'learning_rate': 1.5, 'n_estimators': 70}"
      ]
     },
     "execution_count": 84,
     "metadata": {},
     "output_type": "execute_result"
    }
   ],
   "source": [
    "params={'n_estimators':[50,70,80,90,100],'learning_rate':[1,1.5,2,0.5,2.5],'algorithm':['SAMME','SAMME.R']}\n",
    "grid = GridSearchCV(abc,param_grid=params,cv=5,n_jobs=-1)\n",
    "grid.fit(x_new,y_new)\n",
    "grid.best_params_"
   ]
  },
  {
   "cell_type": "code",
   "execution_count": 85,
   "id": "e0693b91",
   "metadata": {},
   "outputs": [
    {
     "name": "stdout",
     "output_type": "stream",
     "text": [
      "for AdaBoostClassifier algo with hypertuned parameters, \n",
      " the accuracy is 0.8365525509524444 ,\n",
      " \n",
      "classification report is : \n",
      "               precision    recall  f1-score   support\n",
      "\n",
      "           0       0.86      0.94      0.90      5891\n",
      "           1       0.68      0.45      0.54      1616\n",
      "\n",
      "    accuracy                           0.84      7507\n",
      "   macro avg       0.77      0.70      0.72      7507\n",
      "weighted avg       0.82      0.84      0.82      7507\n",
      " ,\n",
      "    \n",
      "\n",
      " roc_auc_score is : 0.6973729434562874 \n",
      "\n",
      " roc curve is :<sklearn.metrics._plot.roc_curve.RocCurveDisplay object at 0x000001FFB5955DF0> \n",
      " and cross validation score is 0.8249636085221702\n"
     ]
    },
    {
     "data": {
      "image/png": "[encoded data removed]",
      "text/plain": [
       "<Figure size 432x288 with 1 Axes>"
      ]
     },
     "metadata": {
      "needs_background": "light"
     },
     "output_type": "display_data"
    }
   ],
   "source": [
    "abc1=AdaBoostClassifier(n_estimators=70,learning_rate=1.5,algorithm='SAMME.R')\n",
    "abc1.fit(x_train,y_train)\n",
    "y_pred = abc1.predict(x_test)\n",
    "acc= accuracy_score(y_test,y_pred)\n",
    "cvs=cross_val_score(abc1,x_train,y_train,cv=7,scoring='accuracy')\n",
    "ac=cvs.mean()\n",
    "print(f'''for AdaBoostClassifier algo with hypertuned parameters, \\n the accuracy is {acc} ,\\n \\nclassification report is : \\n {classification_report(y_test,y_pred)} ,\n",
    "    \\n\\n roc_auc_score is : {roc_auc_score(y_test,y_pred)} \\n\\n roc curve is :{plot_roc_curve(abc1,x_new,y_new)} \\n and cross validation score is {ac}''') \n",
    " "
   ]
  },
  {
   "cell_type": "code",
   "execution_count": 86,
   "id": "0bf0d6c4",
   "metadata": {},
   "outputs": [],
   "source": [
    "# there's a significant improvement.."
   ]
  },
  {
   "cell_type": "code",
   "execution_count": 87,
   "id": "fa4b937d",
   "metadata": {},
   "outputs": [],
   "source": [
    "# let's save this model.."
   ]
  },
  {
   "cell_type": "code",
   "execution_count": 88,
   "id": "84a0bec0",
   "metadata": {},
   "outputs": [],
   "source": [
    "import pickle\n",
    "filename = 'Census_Income_Evaluation_Project'\n",
    "pickle.dump(abc1,open(filename,'wb'))"
   ]
  },
  {
   "cell_type": "code",
   "execution_count": 89,
   "id": "87b4d5b1",
   "metadata": {},
   "outputs": [],
   "source": [
    "#CONCLUSION\n",
    "# 1).HERE, I FOUND CLASS OF TARGET Income. IT HAS TWO CLASSES ONLY- >=50 or <50 which after encoding became 0 & 1.\n",
    "# 2).IT'S A CLASSIFICATION PROBLEM.\n",
    "# 3).FIRSTLY, I CHECKED ALL OF THE FEATURES AS IT HAS 15 FEATURES SO CLASSIFIED THEM\n",
    "# INTO CONTINUOUS AND CATEGORICAL COLUMNS. ALSO, THERE WERE '?' VALUES IN SOME OF THE COLUMNS \n",
    "# SO IMPUTED THEM BY REPLACING THEM WITH THEIR MODE VALUES.\n",
    "# 4).ALSO, USED LABEL ENCODER TO ENCODE CATEGORICAL COLUMNS.\n",
    "# 5).THEN I REMOVED OUTLIERS BASED ON ZSCORES. THE LOSS WAS ONLY 7% APPROX.\n",
    "# 6).THEN SKEWNESS REMOVED USING POWER TRANFORMER WITH YEO-JOHNSON METHOD. AFTER TRANSFORMATION, ONE OF THE FEATURE SHOWED A LOT OF \n",
    "# SKEWNESS IN THE RANGE OF 24, WHICH I LEFT AS IT IS THEN AND LATER REMOVED THIS FEATURE BASED ON FEATURE SELECTION.\n",
    "# 7).THEN DELETED SOME FEATURES BASED ON VIF VALUES AND HENCE, REMOVED MULTICOLLINEARITY.\n",
    "# 8).THEN SELECTED TOP 6 FEATURES OUT OF 10 AVAILABLE FEATURES USING SELECTKBEST METHOD.\n",
    "# 9).THEN DONE SCALING ON THE X BY USING MINMAX SCALER.\n",
    "# 10).I CHECKED MY MODEL WITH DIFFERENT ALGOS AND CAME TO THE CONCLUSION THAT\n",
    "#  ACC. TO MY MODEL, ADABOOST CLASSIFIER ALGO IS THE BEST ALGO.\n",
    "# 11).THE ACCURACY IN TERMS OF ACCURACY_SCORE I GOT IS IN THE RANGE OF 83.6% ALONG WITH\n",
    "# ROC_AUC_SCORE TO BE 69.38% AND 82.4% CROSS_VAL_SCORE.\n",
    "# 13).ON CHECKING BY GRIDSEARCHCV, I FOUND THAT RFC IMPROVED MY MODEL WITH INCREASE IN ACCURACY TO UPTO 83.6%\n",
    "# WITH ROC_AUC_SCORE 69.73% AND ALSO CROSS_VAL_SCORE TO UPTO 82.4%. \n",
    "# 14). HENCE, I FINALIZED MY MODEL WITH ADABOOSTCLASSIFIER WITH ITS HYPERTUNED PARAMETERS GIVEN BY \n",
    "# GRID SEARCH CV.\n",
    "# 15).I ALSO PRINTED CLASSIFICATION REPORT FOR EACH ALGO I TRIED.\n",
    "# 16). I ALSO PLOTTED ROC_CURVE FOR ALL ALGOS.\n",
    "# 17). THEN SAVED THE MODEL IN PICKLE BY NAME 'Census_Income_Evaluation_Project'."
   ]
  },
  {
   "cell_type": "code",
   "execution_count": null,
   "id": "4208a0be",
   "metadata": {},
   "outputs": [],
   "source": []
  }
 ],
 "metadata": {
  "kernelspec": {
   "display_name": "Python 3 (ipykernel)",
   "language": "python",
   "name": "python3"
  },
  "language_info": {
   "codemirror_mode": {
    "name": "ipython",
    "version": 3
   },
   "file_extension": ".py",
   "mimetype": "text/x-python",
   "name": "python",
   "nbconvert_exporter": "python",
   "pygments_lexer": "ipython3",
   "version": "3.9.12"
  }
 },
 "nbformat": 4,
 "nbformat_minor": 5
}
